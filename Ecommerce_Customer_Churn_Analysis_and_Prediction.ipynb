{
  "cells": [
    {
      "cell_type": "code",
      "execution_count": 1,
      "id": "1b53f36b",
      "metadata": {
        "id": "1b53f36b"
      },
      "outputs": [],
      "source": [
        "import pandas as pd\n",
        "import numpy as np\n",
        "import matplotlib.pyplot as plt\n",
        "import seaborn as sns\n",
        "from pandas_profiling import ProfileReport\n",
        "from sklearn.preprocessing import OneHotEncoder ,StandardScaler\n",
        "from sklearn.impute import KNNImputer,SimpleImputer\n",
        "from sklearn.model_selection import train_test_split\n",
        "from sklearn.pipeline import Pipeline\n",
        "from sklearn.compose import ColumnTransformer"
      ]
    },
    {
      "cell_type": "markdown",
      "id": "e9ff882c",
      "metadata": {
        "id": "e9ff882c"
      },
      "source": [
        "# Importing Dataset"
      ]
    },
    {
      "cell_type": "markdown",
      "id": "53d0a88f",
      "metadata": {
        "id": "53d0a88f"
      },
      "source": [
        "Since data is in form of excel file we have to use pandas read_csv to load the data"
      ]
    },
    {
      "cell_type": "code",
      "source": [
        "from google.colab import files\n",
        "uploaded = files.upload()"
      ],
      "metadata": {
        "colab": {
          "base_uri": "https://localhost:8080/",
          "height": 74
        },
        "id": "HDfJ-4bxvn9v",
        "outputId": "b0c579c3-d5ee-433e-f835-6af56d70fb5e"
      },
      "id": "HDfJ-4bxvn9v",
      "execution_count": 7,
      "outputs": [
        {
          "output_type": "display_data",
          "data": {
            "text/plain": [
              "<IPython.core.display.HTML object>"
            ],
            "text/html": [
              "\n",
              "     <input type=\"file\" id=\"files-5d2b8749-97e1-4e14-a33b-dfe36b9b9072\" name=\"files[]\" multiple disabled\n",
              "        style=\"border:none\" />\n",
              "     <output id=\"result-5d2b8749-97e1-4e14-a33b-dfe36b9b9072\">\n",
              "      Upload widget is only available when the cell has been executed in the\n",
              "      current browser session. Please rerun this cell to enable.\n",
              "      </output>\n",
              "      <script>// Copyright 2017 Google LLC\n",
              "//\n",
              "// Licensed under the Apache License, Version 2.0 (the \"License\");\n",
              "// you may not use this file except in compliance with the License.\n",
              "// You may obtain a copy of the License at\n",
              "//\n",
              "//      http://www.apache.org/licenses/LICENSE-2.0\n",
              "//\n",
              "// Unless required by applicable law or agreed to in writing, software\n",
              "// distributed under the License is distributed on an \"AS IS\" BASIS,\n",
              "// WITHOUT WARRANTIES OR CONDITIONS OF ANY KIND, either express or implied.\n",
              "// See the License for the specific language governing permissions and\n",
              "// limitations under the License.\n",
              "\n",
              "/**\n",
              " * @fileoverview Helpers for google.colab Python module.\n",
              " */\n",
              "(function(scope) {\n",
              "function span(text, styleAttributes = {}) {\n",
              "  const element = document.createElement('span');\n",
              "  element.textContent = text;\n",
              "  for (const key of Object.keys(styleAttributes)) {\n",
              "    element.style[key] = styleAttributes[key];\n",
              "  }\n",
              "  return element;\n",
              "}\n",
              "\n",
              "// Max number of bytes which will be uploaded at a time.\n",
              "const MAX_PAYLOAD_SIZE = 100 * 1024;\n",
              "\n",
              "function _uploadFiles(inputId, outputId) {\n",
              "  const steps = uploadFilesStep(inputId, outputId);\n",
              "  const outputElement = document.getElementById(outputId);\n",
              "  // Cache steps on the outputElement to make it available for the next call\n",
              "  // to uploadFilesContinue from Python.\n",
              "  outputElement.steps = steps;\n",
              "\n",
              "  return _uploadFilesContinue(outputId);\n",
              "}\n",
              "\n",
              "// This is roughly an async generator (not supported in the browser yet),\n",
              "// where there are multiple asynchronous steps and the Python side is going\n",
              "// to poll for completion of each step.\n",
              "// This uses a Promise to block the python side on completion of each step,\n",
              "// then passes the result of the previous step as the input to the next step.\n",
              "function _uploadFilesContinue(outputId) {\n",
              "  const outputElement = document.getElementById(outputId);\n",
              "  const steps = outputElement.steps;\n",
              "\n",
              "  const next = steps.next(outputElement.lastPromiseValue);\n",
              "  return Promise.resolve(next.value.promise).then((value) => {\n",
              "    // Cache the last promise value to make it available to the next\n",
              "    // step of the generator.\n",
              "    outputElement.lastPromiseValue = value;\n",
              "    return next.value.response;\n",
              "  });\n",
              "}\n",
              "\n",
              "/**\n",
              " * Generator function which is called between each async step of the upload\n",
              " * process.\n",
              " * @param {string} inputId Element ID of the input file picker element.\n",
              " * @param {string} outputId Element ID of the output display.\n",
              " * @return {!Iterable<!Object>} Iterable of next steps.\n",
              " */\n",
              "function* uploadFilesStep(inputId, outputId) {\n",
              "  const inputElement = document.getElementById(inputId);\n",
              "  inputElement.disabled = false;\n",
              "\n",
              "  const outputElement = document.getElementById(outputId);\n",
              "  outputElement.innerHTML = '';\n",
              "\n",
              "  const pickedPromise = new Promise((resolve) => {\n",
              "    inputElement.addEventListener('change', (e) => {\n",
              "      resolve(e.target.files);\n",
              "    });\n",
              "  });\n",
              "\n",
              "  const cancel = document.createElement('button');\n",
              "  inputElement.parentElement.appendChild(cancel);\n",
              "  cancel.textContent = 'Cancel upload';\n",
              "  const cancelPromise = new Promise((resolve) => {\n",
              "    cancel.onclick = () => {\n",
              "      resolve(null);\n",
              "    };\n",
              "  });\n",
              "\n",
              "  // Wait for the user to pick the files.\n",
              "  const files = yield {\n",
              "    promise: Promise.race([pickedPromise, cancelPromise]),\n",
              "    response: {\n",
              "      action: 'starting',\n",
              "    }\n",
              "  };\n",
              "\n",
              "  cancel.remove();\n",
              "\n",
              "  // Disable the input element since further picks are not allowed.\n",
              "  inputElement.disabled = true;\n",
              "\n",
              "  if (!files) {\n",
              "    return {\n",
              "      response: {\n",
              "        action: 'complete',\n",
              "      }\n",
              "    };\n",
              "  }\n",
              "\n",
              "  for (const file of files) {\n",
              "    const li = document.createElement('li');\n",
              "    li.append(span(file.name, {fontWeight: 'bold'}));\n",
              "    li.append(span(\n",
              "        `(${file.type || 'n/a'}) - ${file.size} bytes, ` +\n",
              "        `last modified: ${\n",
              "            file.lastModifiedDate ? file.lastModifiedDate.toLocaleDateString() :\n",
              "                                    'n/a'} - `));\n",
              "    const percent = span('0% done');\n",
              "    li.appendChild(percent);\n",
              "\n",
              "    outputElement.appendChild(li);\n",
              "\n",
              "    const fileDataPromise = new Promise((resolve) => {\n",
              "      const reader = new FileReader();\n",
              "      reader.onload = (e) => {\n",
              "        resolve(e.target.result);\n",
              "      };\n",
              "      reader.readAsArrayBuffer(file);\n",
              "    });\n",
              "    // Wait for the data to be ready.\n",
              "    let fileData = yield {\n",
              "      promise: fileDataPromise,\n",
              "      response: {\n",
              "        action: 'continue',\n",
              "      }\n",
              "    };\n",
              "\n",
              "    // Use a chunked sending to avoid message size limits. See b/62115660.\n",
              "    let position = 0;\n",
              "    do {\n",
              "      const length = Math.min(fileData.byteLength - position, MAX_PAYLOAD_SIZE);\n",
              "      const chunk = new Uint8Array(fileData, position, length);\n",
              "      position += length;\n",
              "\n",
              "      const base64 = btoa(String.fromCharCode.apply(null, chunk));\n",
              "      yield {\n",
              "        response: {\n",
              "          action: 'append',\n",
              "          file: file.name,\n",
              "          data: base64,\n",
              "        },\n",
              "      };\n",
              "\n",
              "      let percentDone = fileData.byteLength === 0 ?\n",
              "          100 :\n",
              "          Math.round((position / fileData.byteLength) * 100);\n",
              "      percent.textContent = `${percentDone}% done`;\n",
              "\n",
              "    } while (position < fileData.byteLength);\n",
              "  }\n",
              "\n",
              "  // All done.\n",
              "  yield {\n",
              "    response: {\n",
              "      action: 'complete',\n",
              "    }\n",
              "  };\n",
              "}\n",
              "\n",
              "scope.google = scope.google || {};\n",
              "scope.google.colab = scope.google.colab || {};\n",
              "scope.google.colab._files = {\n",
              "  _uploadFiles,\n",
              "  _uploadFilesContinue,\n",
              "};\n",
              "})(self);\n",
              "</script> "
            ]
          },
          "metadata": {}
        },
        {
          "output_type": "stream",
          "name": "stdout",
          "text": [
            "Saving E Commerce Dataset.xlsx to E Commerce Dataset.xlsx\n"
          ]
        }
      ]
    },
    {
      "cell_type": "code",
      "execution_count": 8,
      "id": "831993f5",
      "metadata": {
        "id": "831993f5"
      },
      "outputs": [],
      "source": [
        "df = pd.read_excel(r'E Commerce Dataset.xlsx',sheet_name='E Comm')"
      ]
    },
    {
      "cell_type": "code",
      "execution_count": 9,
      "id": "ef709482",
      "metadata": {
        "colab": {
          "base_uri": "https://localhost:8080/",
          "height": 592
        },
        "id": "ef709482",
        "outputId": "590d37e4-96bd-4c60-9459-7e27287a9b43"
      },
      "outputs": [
        {
          "output_type": "execute_result",
          "data": {
            "text/plain": [
              "      CustomerID  Churn  Tenure PreferredLoginDevice  CityTier  \\\n",
              "0          50001      1     4.0         Mobile Phone         3   \n",
              "1          50002      1     NaN                Phone         1   \n",
              "2          50003      1     NaN                Phone         1   \n",
              "3          50004      1     0.0                Phone         3   \n",
              "4          50005      1     0.0                Phone         1   \n",
              "...          ...    ...     ...                  ...       ...   \n",
              "5625       55626      0    10.0             Computer         1   \n",
              "5626       55627      0    13.0         Mobile Phone         1   \n",
              "5627       55628      0     1.0         Mobile Phone         1   \n",
              "5628       55629      0    23.0             Computer         3   \n",
              "5629       55630      0     8.0         Mobile Phone         1   \n",
              "\n",
              "      WarehouseToHome PreferredPaymentMode  Gender  HourSpendOnApp  \\\n",
              "0                 6.0           Debit Card  Female             3.0   \n",
              "1                 8.0                  UPI    Male             3.0   \n",
              "2                30.0           Debit Card    Male             2.0   \n",
              "3                15.0           Debit Card    Male             2.0   \n",
              "4                12.0                   CC    Male             NaN   \n",
              "...               ...                  ...     ...             ...   \n",
              "5625             30.0          Credit Card    Male             3.0   \n",
              "5626             13.0          Credit Card    Male             3.0   \n",
              "5627             11.0           Debit Card    Male             3.0   \n",
              "5628              9.0          Credit Card    Male             4.0   \n",
              "5629             15.0          Credit Card    Male             3.0   \n",
              "\n",
              "      NumberOfDeviceRegistered    PreferedOrderCat  SatisfactionScore  \\\n",
              "0                            3  Laptop & Accessory                  2   \n",
              "1                            4              Mobile                  3   \n",
              "2                            4              Mobile                  3   \n",
              "3                            4  Laptop & Accessory                  5   \n",
              "4                            3              Mobile                  5   \n",
              "...                        ...                 ...                ...   \n",
              "5625                         2  Laptop & Accessory                  1   \n",
              "5626                         5             Fashion                  5   \n",
              "5627                         2  Laptop & Accessory                  4   \n",
              "5628                         5  Laptop & Accessory                  4   \n",
              "5629                         2  Laptop & Accessory                  3   \n",
              "\n",
              "     MaritalStatus  NumberOfAddress  Complain  OrderAmountHikeFromlastYear  \\\n",
              "0           Single                9         1                         11.0   \n",
              "1           Single                7         1                         15.0   \n",
              "2           Single                6         1                         14.0   \n",
              "3           Single                8         0                         23.0   \n",
              "4           Single                3         0                         11.0   \n",
              "...            ...              ...       ...                          ...   \n",
              "5625       Married                6         0                         18.0   \n",
              "5626       Married                6         0                         16.0   \n",
              "5627       Married                3         1                         21.0   \n",
              "5628       Married                4         0                         15.0   \n",
              "5629       Married                4         0                         13.0   \n",
              "\n",
              "      CouponUsed  OrderCount  DaySinceLastOrder  CashbackAmount  \n",
              "0            1.0         1.0                5.0          159.93  \n",
              "1            0.0         1.0                0.0          120.90  \n",
              "2            0.0         1.0                3.0          120.28  \n",
              "3            0.0         1.0                3.0          134.07  \n",
              "4            1.0         1.0                3.0          129.60  \n",
              "...          ...         ...                ...             ...  \n",
              "5625         1.0         2.0                4.0          150.71  \n",
              "5626         1.0         2.0                NaN          224.91  \n",
              "5627         1.0         2.0                4.0          186.42  \n",
              "5628         2.0         2.0                9.0          178.90  \n",
              "5629         2.0         2.0                3.0          169.04  \n",
              "\n",
              "[5630 rows x 20 columns]"
            ],
            "text/html": [
              "\n",
              "  <div id=\"df-b7967991-4cbd-4186-be44-2a62a15e3f64\">\n",
              "    <div class=\"colab-df-container\">\n",
              "      <div>\n",
              "<style scoped>\n",
              "    .dataframe tbody tr th:only-of-type {\n",
              "        vertical-align: middle;\n",
              "    }\n",
              "\n",
              "    .dataframe tbody tr th {\n",
              "        vertical-align: top;\n",
              "    }\n",
              "\n",
              "    .dataframe thead th {\n",
              "        text-align: right;\n",
              "    }\n",
              "</style>\n",
              "<table border=\"1\" class=\"dataframe\">\n",
              "  <thead>\n",
              "    <tr style=\"text-align: right;\">\n",
              "      <th></th>\n",
              "      <th>CustomerID</th>\n",
              "      <th>Churn</th>\n",
              "      <th>Tenure</th>\n",
              "      <th>PreferredLoginDevice</th>\n",
              "      <th>CityTier</th>\n",
              "      <th>WarehouseToHome</th>\n",
              "      <th>PreferredPaymentMode</th>\n",
              "      <th>Gender</th>\n",
              "      <th>HourSpendOnApp</th>\n",
              "      <th>NumberOfDeviceRegistered</th>\n",
              "      <th>PreferedOrderCat</th>\n",
              "      <th>SatisfactionScore</th>\n",
              "      <th>MaritalStatus</th>\n",
              "      <th>NumberOfAddress</th>\n",
              "      <th>Complain</th>\n",
              "      <th>OrderAmountHikeFromlastYear</th>\n",
              "      <th>CouponUsed</th>\n",
              "      <th>OrderCount</th>\n",
              "      <th>DaySinceLastOrder</th>\n",
              "      <th>CashbackAmount</th>\n",
              "    </tr>\n",
              "  </thead>\n",
              "  <tbody>\n",
              "    <tr>\n",
              "      <th>0</th>\n",
              "      <td>50001</td>\n",
              "      <td>1</td>\n",
              "      <td>4.0</td>\n",
              "      <td>Mobile Phone</td>\n",
              "      <td>3</td>\n",
              "      <td>6.0</td>\n",
              "      <td>Debit Card</td>\n",
              "      <td>Female</td>\n",
              "      <td>3.0</td>\n",
              "      <td>3</td>\n",
              "      <td>Laptop &amp; Accessory</td>\n",
              "      <td>2</td>\n",
              "      <td>Single</td>\n",
              "      <td>9</td>\n",
              "      <td>1</td>\n",
              "      <td>11.0</td>\n",
              "      <td>1.0</td>\n",
              "      <td>1.0</td>\n",
              "      <td>5.0</td>\n",
              "      <td>159.93</td>\n",
              "    </tr>\n",
              "    <tr>\n",
              "      <th>1</th>\n",
              "      <td>50002</td>\n",
              "      <td>1</td>\n",
              "      <td>NaN</td>\n",
              "      <td>Phone</td>\n",
              "      <td>1</td>\n",
              "      <td>8.0</td>\n",
              "      <td>UPI</td>\n",
              "      <td>Male</td>\n",
              "      <td>3.0</td>\n",
              "      <td>4</td>\n",
              "      <td>Mobile</td>\n",
              "      <td>3</td>\n",
              "      <td>Single</td>\n",
              "      <td>7</td>\n",
              "      <td>1</td>\n",
              "      <td>15.0</td>\n",
              "      <td>0.0</td>\n",
              "      <td>1.0</td>\n",
              "      <td>0.0</td>\n",
              "      <td>120.90</td>\n",
              "    </tr>\n",
              "    <tr>\n",
              "      <th>2</th>\n",
              "      <td>50003</td>\n",
              "      <td>1</td>\n",
              "      <td>NaN</td>\n",
              "      <td>Phone</td>\n",
              "      <td>1</td>\n",
              "      <td>30.0</td>\n",
              "      <td>Debit Card</td>\n",
              "      <td>Male</td>\n",
              "      <td>2.0</td>\n",
              "      <td>4</td>\n",
              "      <td>Mobile</td>\n",
              "      <td>3</td>\n",
              "      <td>Single</td>\n",
              "      <td>6</td>\n",
              "      <td>1</td>\n",
              "      <td>14.0</td>\n",
              "      <td>0.0</td>\n",
              "      <td>1.0</td>\n",
              "      <td>3.0</td>\n",
              "      <td>120.28</td>\n",
              "    </tr>\n",
              "    <tr>\n",
              "      <th>3</th>\n",
              "      <td>50004</td>\n",
              "      <td>1</td>\n",
              "      <td>0.0</td>\n",
              "      <td>Phone</td>\n",
              "      <td>3</td>\n",
              "      <td>15.0</td>\n",
              "      <td>Debit Card</td>\n",
              "      <td>Male</td>\n",
              "      <td>2.0</td>\n",
              "      <td>4</td>\n",
              "      <td>Laptop &amp; Accessory</td>\n",
              "      <td>5</td>\n",
              "      <td>Single</td>\n",
              "      <td>8</td>\n",
              "      <td>0</td>\n",
              "      <td>23.0</td>\n",
              "      <td>0.0</td>\n",
              "      <td>1.0</td>\n",
              "      <td>3.0</td>\n",
              "      <td>134.07</td>\n",
              "    </tr>\n",
              "    <tr>\n",
              "      <th>4</th>\n",
              "      <td>50005</td>\n",
              "      <td>1</td>\n",
              "      <td>0.0</td>\n",
              "      <td>Phone</td>\n",
              "      <td>1</td>\n",
              "      <td>12.0</td>\n",
              "      <td>CC</td>\n",
              "      <td>Male</td>\n",
              "      <td>NaN</td>\n",
              "      <td>3</td>\n",
              "      <td>Mobile</td>\n",
              "      <td>5</td>\n",
              "      <td>Single</td>\n",
              "      <td>3</td>\n",
              "      <td>0</td>\n",
              "      <td>11.0</td>\n",
              "      <td>1.0</td>\n",
              "      <td>1.0</td>\n",
              "      <td>3.0</td>\n",
              "      <td>129.60</td>\n",
              "    </tr>\n",
              "    <tr>\n",
              "      <th>...</th>\n",
              "      <td>...</td>\n",
              "      <td>...</td>\n",
              "      <td>...</td>\n",
              "      <td>...</td>\n",
              "      <td>...</td>\n",
              "      <td>...</td>\n",
              "      <td>...</td>\n",
              "      <td>...</td>\n",
              "      <td>...</td>\n",
              "      <td>...</td>\n",
              "      <td>...</td>\n",
              "      <td>...</td>\n",
              "      <td>...</td>\n",
              "      <td>...</td>\n",
              "      <td>...</td>\n",
              "      <td>...</td>\n",
              "      <td>...</td>\n",
              "      <td>...</td>\n",
              "      <td>...</td>\n",
              "      <td>...</td>\n",
              "    </tr>\n",
              "    <tr>\n",
              "      <th>5625</th>\n",
              "      <td>55626</td>\n",
              "      <td>0</td>\n",
              "      <td>10.0</td>\n",
              "      <td>Computer</td>\n",
              "      <td>1</td>\n",
              "      <td>30.0</td>\n",
              "      <td>Credit Card</td>\n",
              "      <td>Male</td>\n",
              "      <td>3.0</td>\n",
              "      <td>2</td>\n",
              "      <td>Laptop &amp; Accessory</td>\n",
              "      <td>1</td>\n",
              "      <td>Married</td>\n",
              "      <td>6</td>\n",
              "      <td>0</td>\n",
              "      <td>18.0</td>\n",
              "      <td>1.0</td>\n",
              "      <td>2.0</td>\n",
              "      <td>4.0</td>\n",
              "      <td>150.71</td>\n",
              "    </tr>\n",
              "    <tr>\n",
              "      <th>5626</th>\n",
              "      <td>55627</td>\n",
              "      <td>0</td>\n",
              "      <td>13.0</td>\n",
              "      <td>Mobile Phone</td>\n",
              "      <td>1</td>\n",
              "      <td>13.0</td>\n",
              "      <td>Credit Card</td>\n",
              "      <td>Male</td>\n",
              "      <td>3.0</td>\n",
              "      <td>5</td>\n",
              "      <td>Fashion</td>\n",
              "      <td>5</td>\n",
              "      <td>Married</td>\n",
              "      <td>6</td>\n",
              "      <td>0</td>\n",
              "      <td>16.0</td>\n",
              "      <td>1.0</td>\n",
              "      <td>2.0</td>\n",
              "      <td>NaN</td>\n",
              "      <td>224.91</td>\n",
              "    </tr>\n",
              "    <tr>\n",
              "      <th>5627</th>\n",
              "      <td>55628</td>\n",
              "      <td>0</td>\n",
              "      <td>1.0</td>\n",
              "      <td>Mobile Phone</td>\n",
              "      <td>1</td>\n",
              "      <td>11.0</td>\n",
              "      <td>Debit Card</td>\n",
              "      <td>Male</td>\n",
              "      <td>3.0</td>\n",
              "      <td>2</td>\n",
              "      <td>Laptop &amp; Accessory</td>\n",
              "      <td>4</td>\n",
              "      <td>Married</td>\n",
              "      <td>3</td>\n",
              "      <td>1</td>\n",
              "      <td>21.0</td>\n",
              "      <td>1.0</td>\n",
              "      <td>2.0</td>\n",
              "      <td>4.0</td>\n",
              "      <td>186.42</td>\n",
              "    </tr>\n",
              "    <tr>\n",
              "      <th>5628</th>\n",
              "      <td>55629</td>\n",
              "      <td>0</td>\n",
              "      <td>23.0</td>\n",
              "      <td>Computer</td>\n",
              "      <td>3</td>\n",
              "      <td>9.0</td>\n",
              "      <td>Credit Card</td>\n",
              "      <td>Male</td>\n",
              "      <td>4.0</td>\n",
              "      <td>5</td>\n",
              "      <td>Laptop &amp; Accessory</td>\n",
              "      <td>4</td>\n",
              "      <td>Married</td>\n",
              "      <td>4</td>\n",
              "      <td>0</td>\n",
              "      <td>15.0</td>\n",
              "      <td>2.0</td>\n",
              "      <td>2.0</td>\n",
              "      <td>9.0</td>\n",
              "      <td>178.90</td>\n",
              "    </tr>\n",
              "    <tr>\n",
              "      <th>5629</th>\n",
              "      <td>55630</td>\n",
              "      <td>0</td>\n",
              "      <td>8.0</td>\n",
              "      <td>Mobile Phone</td>\n",
              "      <td>1</td>\n",
              "      <td>15.0</td>\n",
              "      <td>Credit Card</td>\n",
              "      <td>Male</td>\n",
              "      <td>3.0</td>\n",
              "      <td>2</td>\n",
              "      <td>Laptop &amp; Accessory</td>\n",
              "      <td>3</td>\n",
              "      <td>Married</td>\n",
              "      <td>4</td>\n",
              "      <td>0</td>\n",
              "      <td>13.0</td>\n",
              "      <td>2.0</td>\n",
              "      <td>2.0</td>\n",
              "      <td>3.0</td>\n",
              "      <td>169.04</td>\n",
              "    </tr>\n",
              "  </tbody>\n",
              "</table>\n",
              "<p>5630 rows × 20 columns</p>\n",
              "</div>\n",
              "      <button class=\"colab-df-convert\" onclick=\"convertToInteractive('df-b7967991-4cbd-4186-be44-2a62a15e3f64')\"\n",
              "              title=\"Convert this dataframe to an interactive table.\"\n",
              "              style=\"display:none;\">\n",
              "        \n",
              "  <svg xmlns=\"http://www.w3.org/2000/svg\" height=\"24px\"viewBox=\"0 0 24 24\"\n",
              "       width=\"24px\">\n",
              "    <path d=\"M0 0h24v24H0V0z\" fill=\"none\"/>\n",
              "    <path d=\"M18.56 5.44l.94 2.06.94-2.06 2.06-.94-2.06-.94-.94-2.06-.94 2.06-2.06.94zm-11 1L8.5 8.5l.94-2.06 2.06-.94-2.06-.94L8.5 2.5l-.94 2.06-2.06.94zm10 10l.94 2.06.94-2.06 2.06-.94-2.06-.94-.94-2.06-.94 2.06-2.06.94z\"/><path d=\"M17.41 7.96l-1.37-1.37c-.4-.4-.92-.59-1.43-.59-.52 0-1.04.2-1.43.59L10.3 9.45l-7.72 7.72c-.78.78-.78 2.05 0 2.83L4 21.41c.39.39.9.59 1.41.59.51 0 1.02-.2 1.41-.59l7.78-7.78 2.81-2.81c.8-.78.8-2.07 0-2.86zM5.41 20L4 18.59l7.72-7.72 1.47 1.35L5.41 20z\"/>\n",
              "  </svg>\n",
              "      </button>\n",
              "      \n",
              "  <style>\n",
              "    .colab-df-container {\n",
              "      display:flex;\n",
              "      flex-wrap:wrap;\n",
              "      gap: 12px;\n",
              "    }\n",
              "\n",
              "    .colab-df-convert {\n",
              "      background-color: #E8F0FE;\n",
              "      border: none;\n",
              "      border-radius: 50%;\n",
              "      cursor: pointer;\n",
              "      display: none;\n",
              "      fill: #1967D2;\n",
              "      height: 32px;\n",
              "      padding: 0 0 0 0;\n",
              "      width: 32px;\n",
              "    }\n",
              "\n",
              "    .colab-df-convert:hover {\n",
              "      background-color: #E2EBFA;\n",
              "      box-shadow: 0px 1px 2px rgba(60, 64, 67, 0.3), 0px 1px 3px 1px rgba(60, 64, 67, 0.15);\n",
              "      fill: #174EA6;\n",
              "    }\n",
              "\n",
              "    [theme=dark] .colab-df-convert {\n",
              "      background-color: #3B4455;\n",
              "      fill: #D2E3FC;\n",
              "    }\n",
              "\n",
              "    [theme=dark] .colab-df-convert:hover {\n",
              "      background-color: #434B5C;\n",
              "      box-shadow: 0px 1px 3px 1px rgba(0, 0, 0, 0.15);\n",
              "      filter: drop-shadow(0px 1px 2px rgba(0, 0, 0, 0.3));\n",
              "      fill: #FFFFFF;\n",
              "    }\n",
              "  </style>\n",
              "\n",
              "      <script>\n",
              "        const buttonEl =\n",
              "          document.querySelector('#df-b7967991-4cbd-4186-be44-2a62a15e3f64 button.colab-df-convert');\n",
              "        buttonEl.style.display =\n",
              "          google.colab.kernel.accessAllowed ? 'block' : 'none';\n",
              "\n",
              "        async function convertToInteractive(key) {\n",
              "          const element = document.querySelector('#df-b7967991-4cbd-4186-be44-2a62a15e3f64');\n",
              "          const dataTable =\n",
              "            await google.colab.kernel.invokeFunction('convertToInteractive',\n",
              "                                                     [key], {});\n",
              "          if (!dataTable) return;\n",
              "\n",
              "          const docLinkHtml = 'Like what you see? Visit the ' +\n",
              "            '<a target=\"_blank\" href=https://colab.research.google.com/notebooks/data_table.ipynb>data table notebook</a>'\n",
              "            + ' to learn more about interactive tables.';\n",
              "          element.innerHTML = '';\n",
              "          dataTable['output_type'] = 'display_data';\n",
              "          await google.colab.output.renderOutput(dataTable, element);\n",
              "          const docLink = document.createElement('div');\n",
              "          docLink.innerHTML = docLinkHtml;\n",
              "          element.appendChild(docLink);\n",
              "        }\n",
              "      </script>\n",
              "    </div>\n",
              "  </div>\n",
              "  "
            ]
          },
          "metadata": {},
          "execution_count": 9
        }
      ],
      "source": [
        "df"
      ]
    },
    {
      "cell_type": "code",
      "execution_count": 10,
      "id": "62995c36",
      "metadata": {
        "scrolled": false,
        "colab": {
          "base_uri": "https://localhost:8080/"
        },
        "id": "62995c36",
        "outputId": "8e5db267-f946-4b42-fb3e-53a3d622a22b"
      },
      "outputs": [
        {
          "output_type": "execute_result",
          "data": {
            "text/plain": [
              "CustomerID                       int64\n",
              "Churn                            int64\n",
              "Tenure                         float64\n",
              "PreferredLoginDevice            object\n",
              "CityTier                         int64\n",
              "WarehouseToHome                float64\n",
              "PreferredPaymentMode            object\n",
              "Gender                          object\n",
              "HourSpendOnApp                 float64\n",
              "NumberOfDeviceRegistered         int64\n",
              "PreferedOrderCat                object\n",
              "SatisfactionScore                int64\n",
              "MaritalStatus                   object\n",
              "NumberOfAddress                  int64\n",
              "Complain                         int64\n",
              "OrderAmountHikeFromlastYear    float64\n",
              "CouponUsed                     float64\n",
              "OrderCount                     float64\n",
              "DaySinceLastOrder              float64\n",
              "CashbackAmount                 float64\n",
              "dtype: object"
            ]
          },
          "metadata": {},
          "execution_count": 10
        }
      ],
      "source": [
        "df.dtypes"
      ]
    },
    {
      "cell_type": "code",
      "execution_count": 11,
      "id": "f36edabb",
      "metadata": {
        "id": "f36edabb"
      },
      "outputs": [],
      "source": [
        "#EDA analysis"
      ]
    },
    {
      "cell_type": "code",
      "execution_count": 12,
      "id": "58bae3be",
      "metadata": {
        "scrolled": false,
        "colab": {
          "base_uri": "https://localhost:8080/",
          "height": 325
        },
        "id": "58bae3be",
        "outputId": "e1d2278e-3e15-4854-e6bb-fd089b9d985b"
      },
      "outputs": [
        {
          "output_type": "error",
          "ename": "TypeError",
          "evalue": "ignored",
          "traceback": [
            "\u001b[0;31m---------------------------------------------------------------------------\u001b[0m",
            "\u001b[0;31mTypeError\u001b[0m                                 Traceback (most recent call last)",
            "\u001b[0;32m<ipython-input-12-56de19543beb>\u001b[0m in \u001b[0;36m<module>\u001b[0;34m\u001b[0m\n\u001b[0;32m----> 1\u001b[0;31m \u001b[0mProfileReport\u001b[0m\u001b[0;34m(\u001b[0m\u001b[0mdf\u001b[0m\u001b[0;34m)\u001b[0m\u001b[0;34m\u001b[0m\u001b[0;34m\u001b[0m\u001b[0m\n\u001b[0m",
            "\u001b[0;32m/usr/local/lib/python3.7/dist-packages/pandas_profiling/__init__.py\u001b[0m in \u001b[0;36m__init__\u001b[0;34m(self, df, **kwargs)\u001b[0m\n\u001b[1;32m     64\u001b[0m         \u001b[0msample\u001b[0m \u001b[0;34m=\u001b[0m \u001b[0mkwargs\u001b[0m\u001b[0;34m.\u001b[0m\u001b[0mget\u001b[0m\u001b[0;34m(\u001b[0m\u001b[0;34m'sample'\u001b[0m\u001b[0;34m,\u001b[0m \u001b[0mdf\u001b[0m\u001b[0;34m.\u001b[0m\u001b[0mhead\u001b[0m\u001b[0;34m(\u001b[0m\u001b[0;34m)\u001b[0m\u001b[0;34m)\u001b[0m\u001b[0;34m\u001b[0m\u001b[0;34m\u001b[0m\u001b[0m\n\u001b[1;32m     65\u001b[0m \u001b[0;34m\u001b[0m\u001b[0m\n\u001b[0;32m---> 66\u001b[0;31m         \u001b[0mdescription_set\u001b[0m \u001b[0;34m=\u001b[0m \u001b[0mdescribe\u001b[0m\u001b[0;34m(\u001b[0m\u001b[0mdf\u001b[0m\u001b[0;34m,\u001b[0m \u001b[0;34m**\u001b[0m\u001b[0mkwargs\u001b[0m\u001b[0;34m)\u001b[0m\u001b[0;34m\u001b[0m\u001b[0;34m\u001b[0m\u001b[0m\n\u001b[0m\u001b[1;32m     67\u001b[0m \u001b[0;34m\u001b[0m\u001b[0m\n\u001b[1;32m     68\u001b[0m         self.html = to_html(sample,\n",
            "\u001b[0;32m/usr/local/lib/python3.7/dist-packages/pandas_profiling/describe.py\u001b[0m in \u001b[0;36mdescribe\u001b[0;34m(df, bins, check_correlation, correlation_threshold, correlation_overrides, check_recoded, pool_size, **kwargs)\u001b[0m\n\u001b[1;32m    390\u001b[0m             \u001b[0;32mif\u001b[0m \u001b[0mname\u001b[0m \u001b[0;32mnot\u001b[0m \u001b[0;32min\u001b[0m \u001b[0mnames\u001b[0m\u001b[0;34m:\u001b[0m\u001b[0;34m\u001b[0m\u001b[0;34m\u001b[0m\u001b[0m\n\u001b[1;32m    391\u001b[0m                 \u001b[0mnames\u001b[0m\u001b[0;34m.\u001b[0m\u001b[0mappend\u001b[0m\u001b[0;34m(\u001b[0m\u001b[0mname\u001b[0m\u001b[0;34m)\u001b[0m\u001b[0;34m\u001b[0m\u001b[0;34m\u001b[0m\u001b[0m\n\u001b[0;32m--> 392\u001b[0;31m     \u001b[0mvariable_stats\u001b[0m \u001b[0;34m=\u001b[0m \u001b[0mpd\u001b[0m\u001b[0;34m.\u001b[0m\u001b[0mconcat\u001b[0m\u001b[0;34m(\u001b[0m\u001b[0mldesc\u001b[0m\u001b[0;34m,\u001b[0m \u001b[0mjoin_axes\u001b[0m\u001b[0;34m=\u001b[0m\u001b[0mpd\u001b[0m\u001b[0;34m.\u001b[0m\u001b[0mIndex\u001b[0m\u001b[0;34m(\u001b[0m\u001b[0;34m[\u001b[0m\u001b[0mnames\u001b[0m\u001b[0;34m]\u001b[0m\u001b[0;34m)\u001b[0m\u001b[0;34m,\u001b[0m \u001b[0maxis\u001b[0m\u001b[0;34m=\u001b[0m\u001b[0;36m1\u001b[0m\u001b[0;34m)\u001b[0m\u001b[0;34m\u001b[0m\u001b[0;34m\u001b[0m\u001b[0m\n\u001b[0m\u001b[1;32m    393\u001b[0m     \u001b[0mvariable_stats\u001b[0m\u001b[0;34m.\u001b[0m\u001b[0mcolumns\u001b[0m\u001b[0;34m.\u001b[0m\u001b[0mnames\u001b[0m \u001b[0;34m=\u001b[0m \u001b[0mdf\u001b[0m\u001b[0;34m.\u001b[0m\u001b[0mcolumns\u001b[0m\u001b[0;34m.\u001b[0m\u001b[0mnames\u001b[0m\u001b[0;34m\u001b[0m\u001b[0;34m\u001b[0m\u001b[0m\n\u001b[1;32m    394\u001b[0m \u001b[0;34m\u001b[0m\u001b[0m\n",
            "\u001b[0;32m/usr/local/lib/python3.7/dist-packages/pandas/util/_decorators.py\u001b[0m in \u001b[0;36mwrapper\u001b[0;34m(*args, **kwargs)\u001b[0m\n\u001b[1;32m    309\u001b[0m                     \u001b[0mstacklevel\u001b[0m\u001b[0;34m=\u001b[0m\u001b[0mstacklevel\u001b[0m\u001b[0;34m,\u001b[0m\u001b[0;34m\u001b[0m\u001b[0;34m\u001b[0m\u001b[0m\n\u001b[1;32m    310\u001b[0m                 )\n\u001b[0;32m--> 311\u001b[0;31m             \u001b[0;32mreturn\u001b[0m \u001b[0mfunc\u001b[0m\u001b[0;34m(\u001b[0m\u001b[0;34m*\u001b[0m\u001b[0margs\u001b[0m\u001b[0;34m,\u001b[0m \u001b[0;34m**\u001b[0m\u001b[0mkwargs\u001b[0m\u001b[0;34m)\u001b[0m\u001b[0;34m\u001b[0m\u001b[0;34m\u001b[0m\u001b[0m\n\u001b[0m\u001b[1;32m    312\u001b[0m \u001b[0;34m\u001b[0m\u001b[0m\n\u001b[1;32m    313\u001b[0m         \u001b[0;32mreturn\u001b[0m \u001b[0mwrapper\u001b[0m\u001b[0;34m\u001b[0m\u001b[0;34m\u001b[0m\u001b[0m\n",
            "\u001b[0;31mTypeError\u001b[0m: concat() got an unexpected keyword argument 'join_axes'"
          ]
        }
      ],
      "source": [
        "ProfileReport(df)"
      ]
    },
    {
      "cell_type": "markdown",
      "id": "b1548f51",
      "metadata": {
        "id": "b1548f51"
      },
      "source": [
        "# Data cleaning"
      ]
    },
    {
      "cell_type": "raw",
      "id": "32cc4e2e",
      "metadata": {
        "id": "32cc4e2e"
      },
      "source": [
        "1.After loading it is important to check null values in a column or a row\n",
        "2.if it is present then following can be done, \n",
        "  a. Filling NaN values with mean or median or mode using fillna() method\n",
        "  b. Imputing data using Imputation method in sklearn\n",
        "  c. If there are less NaN values then we can drop those indexes as well"
      ]
    },
    {
      "cell_type": "code",
      "execution_count": 13,
      "id": "6d7a7903",
      "metadata": {
        "scrolled": false,
        "colab": {
          "base_uri": "https://localhost:8080/"
        },
        "id": "6d7a7903",
        "outputId": "1046c3cb-6400-42b4-ce34-a3d66718e61b"
      },
      "outputs": [
        {
          "output_type": "execute_result",
          "data": {
            "text/plain": [
              "CustomerID                       0\n",
              "Churn                            0\n",
              "Tenure                         264\n",
              "PreferredLoginDevice             0\n",
              "CityTier                         0\n",
              "WarehouseToHome                251\n",
              "PreferredPaymentMode             0\n",
              "Gender                           0\n",
              "HourSpendOnApp                 255\n",
              "NumberOfDeviceRegistered         0\n",
              "PreferedOrderCat                 0\n",
              "SatisfactionScore                0\n",
              "MaritalStatus                    0\n",
              "NumberOfAddress                  0\n",
              "Complain                         0\n",
              "OrderAmountHikeFromlastYear    265\n",
              "CouponUsed                     256\n",
              "OrderCount                     258\n",
              "DaySinceLastOrder              307\n",
              "CashbackAmount                   0\n",
              "dtype: int64"
            ]
          },
          "metadata": {},
          "execution_count": 13
        }
      ],
      "source": [
        "df.isnull().sum()      #finding the null values"
      ]
    },
    {
      "cell_type": "markdown",
      "id": "8e78d992",
      "metadata": {
        "id": "8e78d992"
      },
      "source": [
        "# Pipeline"
      ]
    },
    {
      "cell_type": "code",
      "execution_count": 14,
      "id": "68352a27",
      "metadata": {
        "id": "68352a27"
      },
      "outputs": [],
      "source": [
        "drop_feature = ['CustomerID']  # it will not help in modelling"
      ]
    },
    {
      "cell_type": "code",
      "execution_count": 15,
      "id": "79946940",
      "metadata": {
        "id": "79946940"
      },
      "outputs": [],
      "source": [
        "X = df.drop(columns='Churn')"
      ]
    },
    {
      "cell_type": "code",
      "execution_count": 16,
      "id": "7daea4f9",
      "metadata": {
        "id": "7daea4f9"
      },
      "outputs": [],
      "source": [
        "Y = df['Churn']"
      ]
    },
    {
      "cell_type": "code",
      "execution_count": 17,
      "id": "a3d0c875",
      "metadata": {
        "id": "a3d0c875"
      },
      "outputs": [],
      "source": [
        "categorical_feature = [i for i in X.columns if X[i].dtypes=='object']"
      ]
    },
    {
      "cell_type": "code",
      "execution_count": 18,
      "id": "ad7b7a0e",
      "metadata": {
        "id": "ad7b7a0e"
      },
      "outputs": [],
      "source": [
        "numeric_feature = [i for i in X.columns if X[i].dtypes != 'object']"
      ]
    },
    {
      "cell_type": "code",
      "execution_count": 19,
      "id": "54a5d85e",
      "metadata": {
        "id": "54a5d85e"
      },
      "outputs": [],
      "source": [
        "numeric_feature.remove('CustomerID')     # Removing from feature list"
      ]
    },
    {
      "cell_type": "code",
      "execution_count": 20,
      "id": "136ff611",
      "metadata": {
        "id": "136ff611"
      },
      "outputs": [],
      "source": [
        "feature_Ls = numeric_feature.copy()"
      ]
    },
    {
      "cell_type": "code",
      "execution_count": 21,
      "id": "092bd067",
      "metadata": {
        "id": "092bd067"
      },
      "outputs": [],
      "source": [
        "# Transformation"
      ]
    },
    {
      "cell_type": "code",
      "execution_count": 22,
      "id": "10e64613",
      "metadata": {
        "id": "10e64613"
      },
      "outputs": [],
      "source": [
        "drop_transformer = ColumnTransformer(transformers=[('drop_columns','drop',drop_feature)],remainder='passthrough')"
      ]
    },
    {
      "cell_type": "code",
      "execution_count": 23,
      "id": "101e4f5d",
      "metadata": {
        "colab": {
          "base_uri": "https://localhost:8080/",
          "height": 190
        },
        "id": "101e4f5d",
        "outputId": "78656ef2-8ea3-4447-a5fa-f753668bbca8"
      },
      "outputs": [
        {
          "output_type": "error",
          "ename": "TypeError",
          "evalue": "ignored",
          "traceback": [
            "\u001b[0;31m---------------------------------------------------------------------------\u001b[0m",
            "\u001b[0;31mTypeError\u001b[0m                                 Traceback (most recent call last)",
            "\u001b[0;32m<ipython-input-23-6e1d3cd8f247>\u001b[0m in \u001b[0;36m<module>\u001b[0;34m\u001b[0m\n\u001b[1;32m      1\u001b[0m \u001b[0mpipeline\u001b[0m \u001b[0;34m=\u001b[0m \u001b[0mPipeline\u001b[0m\u001b[0;34m(\u001b[0m\u001b[0;34m[\u001b[0m\u001b[0;34m(\u001b[0m\u001b[0;34m'drop_transformer'\u001b[0m\u001b[0;34m,\u001b[0m\u001b[0mdrop_transformer\u001b[0m\u001b[0;34m)\u001b[0m\u001b[0;34m]\u001b[0m\u001b[0;34m)\u001b[0m\u001b[0;34m\u001b[0m\u001b[0;34m\u001b[0m\u001b[0m\n\u001b[0;32m----> 2\u001b[0;31m \u001b[0mpipeline\u001b[0m\u001b[0;34m.\u001b[0m\u001b[0mfit\u001b[0m\u001b[0;34m(\u001b[0m\u001b[0;34m)\u001b[0m\u001b[0;34m\u001b[0m\u001b[0;34m\u001b[0m\u001b[0m\n\u001b[0m",
            "\u001b[0;31mTypeError\u001b[0m: fit() missing 1 required positional argument: 'X'"
          ]
        }
      ],
      "source": [
        "pipeline = Pipeline([('drop_transformer',drop_transformer)])\n",
        "pipeline.fit()"
      ]
    },
    {
      "cell_type": "code",
      "execution_count": 24,
      "id": "e0bf9124",
      "metadata": {
        "colab": {
          "base_uri": "https://localhost:8080/"
        },
        "id": "e0bf9124",
        "outputId": "1c282539-824c-4da9-edcd-4eb656a21785"
      },
      "outputs": [
        {
          "output_type": "execute_result",
          "data": {
            "text/plain": [
              "0         XPhone\n",
              "1         XPhone\n",
              "2         XPhone\n",
              "3         XPhone\n",
              "4         XPhone\n",
              "          ...   \n",
              "5625    Computer\n",
              "5626      XPhone\n",
              "5627      XPhone\n",
              "5628    Computer\n",
              "5629      XPhone\n",
              "Name: PreferredLoginDevice, Length: 5630, dtype: object"
            ]
          },
          "metadata": {},
          "execution_count": 24
        }
      ],
      "source": [
        "df['PreferredLoginDevice'].replace(['Mobile Phone','Phone'],'XPhone')"
      ]
    },
    {
      "cell_type": "code",
      "execution_count": 25,
      "id": "965eba33",
      "metadata": {
        "id": "965eba33"
      },
      "outputs": [],
      "source": [
        "# Creating separate transformer for categorical and numerical data"
      ]
    },
    {
      "cell_type": "code",
      "execution_count": 26,
      "id": "0187419f",
      "metadata": {
        "id": "0187419f"
      },
      "outputs": [],
      "source": [
        "numeric_transformer = Pipeline([('numeerical_mean_imputer',SimpleImputer()),('scale',StandardScaler())])"
      ]
    },
    {
      "cell_type": "code",
      "execution_count": 27,
      "id": "fe2aad92",
      "metadata": {
        "id": "fe2aad92"
      },
      "outputs": [],
      "source": [
        "catergorical_transformation = Pipeline([('encoding',OneHotEncoder(drop='first')),('categorical_mode_imputer',SimpleImputer(strategy='most_frequent'))])"
      ]
    },
    {
      "cell_type": "code",
      "execution_count": 28,
      "id": "e6981711",
      "metadata": {
        "id": "e6981711"
      },
      "outputs": [],
      "source": [
        "col_transformer = ColumnTransformer([('Drop','drop',drop_feature),\n",
        "                                     ('numerical_transformation',numeric_transformer,numeric_feature),\n",
        "                                     ('categorical_transformation',catergorical_transformation,categorical_feature)])"
      ]
    },
    {
      "cell_type": "code",
      "execution_count": 29,
      "id": "55c6afac",
      "metadata": {
        "colab": {
          "base_uri": "https://localhost:8080/"
        },
        "id": "55c6afac",
        "outputId": "d9a4b04b-5bf9-4585-b084-d996f6f26a44"
      },
      "outputs": [
        {
          "output_type": "execute_result",
          "data": {
            "text/plain": [
              "ColumnTransformer(transformers=[('Drop', 'drop', ['CustomerID']),\n",
              "                                ('numerical_transformation',\n",
              "                                 Pipeline(steps=[('numeerical_mean_imputer',\n",
              "                                                  SimpleImputer()),\n",
              "                                                 ('scale', StandardScaler())]),\n",
              "                                 ['Tenure', 'CityTier', 'WarehouseToHome',\n",
              "                                  'HourSpendOnApp', 'NumberOfDeviceRegistered',\n",
              "                                  'SatisfactionScore', 'NumberOfAddress',\n",
              "                                  'Complain', 'OrderAmountHikeFromlastYear',\n",
              "                                  'CouponUsed', 'OrderCount',\n",
              "                                  'DaySinceLastOrder', 'CashbackAmount']),\n",
              "                                ('categorical_transformation',\n",
              "                                 Pipeline(steps=[('encoding',\n",
              "                                                  OneHotEncoder(drop='first')),\n",
              "                                                 ('categorical_mode_imputer',\n",
              "                                                  SimpleImputer(strategy='most_frequent'))]),\n",
              "                                 ['PreferredLoginDevice',\n",
              "                                  'PreferredPaymentMode', 'Gender',\n",
              "                                  'PreferedOrderCat', 'MaritalStatus'])])"
            ]
          },
          "metadata": {},
          "execution_count": 29
        }
      ],
      "source": [
        "col_transformer"
      ]
    },
    {
      "cell_type": "code",
      "execution_count": 30,
      "id": "94fdb53d",
      "metadata": {
        "colab": {
          "base_uri": "https://localhost:8080/",
          "height": 592
        },
        "id": "94fdb53d",
        "outputId": "05323110-717e-4576-d782-7dad3aa0af88"
      },
      "outputs": [
        {
          "output_type": "execute_result",
          "data": {
            "text/plain": [
              "      CustomerID  Tenure PreferredLoginDevice  CityTier  WarehouseToHome  \\\n",
              "0          50001     4.0         Mobile Phone         3              6.0   \n",
              "1          50002     NaN                Phone         1              8.0   \n",
              "2          50003     NaN                Phone         1             30.0   \n",
              "3          50004     0.0                Phone         3             15.0   \n",
              "4          50005     0.0                Phone         1             12.0   \n",
              "...          ...     ...                  ...       ...              ...   \n",
              "5625       55626    10.0             Computer         1             30.0   \n",
              "5626       55627    13.0         Mobile Phone         1             13.0   \n",
              "5627       55628     1.0         Mobile Phone         1             11.0   \n",
              "5628       55629    23.0             Computer         3              9.0   \n",
              "5629       55630     8.0         Mobile Phone         1             15.0   \n",
              "\n",
              "     PreferredPaymentMode  Gender  HourSpendOnApp  NumberOfDeviceRegistered  \\\n",
              "0              Debit Card  Female             3.0                         3   \n",
              "1                     UPI    Male             3.0                         4   \n",
              "2              Debit Card    Male             2.0                         4   \n",
              "3              Debit Card    Male             2.0                         4   \n",
              "4                      CC    Male             NaN                         3   \n",
              "...                   ...     ...             ...                       ...   \n",
              "5625          Credit Card    Male             3.0                         2   \n",
              "5626          Credit Card    Male             3.0                         5   \n",
              "5627           Debit Card    Male             3.0                         2   \n",
              "5628          Credit Card    Male             4.0                         5   \n",
              "5629          Credit Card    Male             3.0                         2   \n",
              "\n",
              "        PreferedOrderCat  SatisfactionScore MaritalStatus  NumberOfAddress  \\\n",
              "0     Laptop & Accessory                  2        Single                9   \n",
              "1                 Mobile                  3        Single                7   \n",
              "2                 Mobile                  3        Single                6   \n",
              "3     Laptop & Accessory                  5        Single                8   \n",
              "4                 Mobile                  5        Single                3   \n",
              "...                  ...                ...           ...              ...   \n",
              "5625  Laptop & Accessory                  1       Married                6   \n",
              "5626             Fashion                  5       Married                6   \n",
              "5627  Laptop & Accessory                  4       Married                3   \n",
              "5628  Laptop & Accessory                  4       Married                4   \n",
              "5629  Laptop & Accessory                  3       Married                4   \n",
              "\n",
              "      Complain  OrderAmountHikeFromlastYear  CouponUsed  OrderCount  \\\n",
              "0            1                         11.0         1.0         1.0   \n",
              "1            1                         15.0         0.0         1.0   \n",
              "2            1                         14.0         0.0         1.0   \n",
              "3            0                         23.0         0.0         1.0   \n",
              "4            0                         11.0         1.0         1.0   \n",
              "...        ...                          ...         ...         ...   \n",
              "5625         0                         18.0         1.0         2.0   \n",
              "5626         0                         16.0         1.0         2.0   \n",
              "5627         1                         21.0         1.0         2.0   \n",
              "5628         0                         15.0         2.0         2.0   \n",
              "5629         0                         13.0         2.0         2.0   \n",
              "\n",
              "      DaySinceLastOrder  CashbackAmount  \n",
              "0                   5.0          159.93  \n",
              "1                   0.0          120.90  \n",
              "2                   3.0          120.28  \n",
              "3                   3.0          134.07  \n",
              "4                   3.0          129.60  \n",
              "...                 ...             ...  \n",
              "5625                4.0          150.71  \n",
              "5626                NaN          224.91  \n",
              "5627                4.0          186.42  \n",
              "5628                9.0          178.90  \n",
              "5629                3.0          169.04  \n",
              "\n",
              "[5630 rows x 19 columns]"
            ],
            "text/html": [
              "\n",
              "  <div id=\"df-74fa4726-efc2-4a82-9143-5f919a25935f\">\n",
              "    <div class=\"colab-df-container\">\n",
              "      <div>\n",
              "<style scoped>\n",
              "    .dataframe tbody tr th:only-of-type {\n",
              "        vertical-align: middle;\n",
              "    }\n",
              "\n",
              "    .dataframe tbody tr th {\n",
              "        vertical-align: top;\n",
              "    }\n",
              "\n",
              "    .dataframe thead th {\n",
              "        text-align: right;\n",
              "    }\n",
              "</style>\n",
              "<table border=\"1\" class=\"dataframe\">\n",
              "  <thead>\n",
              "    <tr style=\"text-align: right;\">\n",
              "      <th></th>\n",
              "      <th>CustomerID</th>\n",
              "      <th>Tenure</th>\n",
              "      <th>PreferredLoginDevice</th>\n",
              "      <th>CityTier</th>\n",
              "      <th>WarehouseToHome</th>\n",
              "      <th>PreferredPaymentMode</th>\n",
              "      <th>Gender</th>\n",
              "      <th>HourSpendOnApp</th>\n",
              "      <th>NumberOfDeviceRegistered</th>\n",
              "      <th>PreferedOrderCat</th>\n",
              "      <th>SatisfactionScore</th>\n",
              "      <th>MaritalStatus</th>\n",
              "      <th>NumberOfAddress</th>\n",
              "      <th>Complain</th>\n",
              "      <th>OrderAmountHikeFromlastYear</th>\n",
              "      <th>CouponUsed</th>\n",
              "      <th>OrderCount</th>\n",
              "      <th>DaySinceLastOrder</th>\n",
              "      <th>CashbackAmount</th>\n",
              "    </tr>\n",
              "  </thead>\n",
              "  <tbody>\n",
              "    <tr>\n",
              "      <th>0</th>\n",
              "      <td>50001</td>\n",
              "      <td>4.0</td>\n",
              "      <td>Mobile Phone</td>\n",
              "      <td>3</td>\n",
              "      <td>6.0</td>\n",
              "      <td>Debit Card</td>\n",
              "      <td>Female</td>\n",
              "      <td>3.0</td>\n",
              "      <td>3</td>\n",
              "      <td>Laptop &amp; Accessory</td>\n",
              "      <td>2</td>\n",
              "      <td>Single</td>\n",
              "      <td>9</td>\n",
              "      <td>1</td>\n",
              "      <td>11.0</td>\n",
              "      <td>1.0</td>\n",
              "      <td>1.0</td>\n",
              "      <td>5.0</td>\n",
              "      <td>159.93</td>\n",
              "    </tr>\n",
              "    <tr>\n",
              "      <th>1</th>\n",
              "      <td>50002</td>\n",
              "      <td>NaN</td>\n",
              "      <td>Phone</td>\n",
              "      <td>1</td>\n",
              "      <td>8.0</td>\n",
              "      <td>UPI</td>\n",
              "      <td>Male</td>\n",
              "      <td>3.0</td>\n",
              "      <td>4</td>\n",
              "      <td>Mobile</td>\n",
              "      <td>3</td>\n",
              "      <td>Single</td>\n",
              "      <td>7</td>\n",
              "      <td>1</td>\n",
              "      <td>15.0</td>\n",
              "      <td>0.0</td>\n",
              "      <td>1.0</td>\n",
              "      <td>0.0</td>\n",
              "      <td>120.90</td>\n",
              "    </tr>\n",
              "    <tr>\n",
              "      <th>2</th>\n",
              "      <td>50003</td>\n",
              "      <td>NaN</td>\n",
              "      <td>Phone</td>\n",
              "      <td>1</td>\n",
              "      <td>30.0</td>\n",
              "      <td>Debit Card</td>\n",
              "      <td>Male</td>\n",
              "      <td>2.0</td>\n",
              "      <td>4</td>\n",
              "      <td>Mobile</td>\n",
              "      <td>3</td>\n",
              "      <td>Single</td>\n",
              "      <td>6</td>\n",
              "      <td>1</td>\n",
              "      <td>14.0</td>\n",
              "      <td>0.0</td>\n",
              "      <td>1.0</td>\n",
              "      <td>3.0</td>\n",
              "      <td>120.28</td>\n",
              "    </tr>\n",
              "    <tr>\n",
              "      <th>3</th>\n",
              "      <td>50004</td>\n",
              "      <td>0.0</td>\n",
              "      <td>Phone</td>\n",
              "      <td>3</td>\n",
              "      <td>15.0</td>\n",
              "      <td>Debit Card</td>\n",
              "      <td>Male</td>\n",
              "      <td>2.0</td>\n",
              "      <td>4</td>\n",
              "      <td>Laptop &amp; Accessory</td>\n",
              "      <td>5</td>\n",
              "      <td>Single</td>\n",
              "      <td>8</td>\n",
              "      <td>0</td>\n",
              "      <td>23.0</td>\n",
              "      <td>0.0</td>\n",
              "      <td>1.0</td>\n",
              "      <td>3.0</td>\n",
              "      <td>134.07</td>\n",
              "    </tr>\n",
              "    <tr>\n",
              "      <th>4</th>\n",
              "      <td>50005</td>\n",
              "      <td>0.0</td>\n",
              "      <td>Phone</td>\n",
              "      <td>1</td>\n",
              "      <td>12.0</td>\n",
              "      <td>CC</td>\n",
              "      <td>Male</td>\n",
              "      <td>NaN</td>\n",
              "      <td>3</td>\n",
              "      <td>Mobile</td>\n",
              "      <td>5</td>\n",
              "      <td>Single</td>\n",
              "      <td>3</td>\n",
              "      <td>0</td>\n",
              "      <td>11.0</td>\n",
              "      <td>1.0</td>\n",
              "      <td>1.0</td>\n",
              "      <td>3.0</td>\n",
              "      <td>129.60</td>\n",
              "    </tr>\n",
              "    <tr>\n",
              "      <th>...</th>\n",
              "      <td>...</td>\n",
              "      <td>...</td>\n",
              "      <td>...</td>\n",
              "      <td>...</td>\n",
              "      <td>...</td>\n",
              "      <td>...</td>\n",
              "      <td>...</td>\n",
              "      <td>...</td>\n",
              "      <td>...</td>\n",
              "      <td>...</td>\n",
              "      <td>...</td>\n",
              "      <td>...</td>\n",
              "      <td>...</td>\n",
              "      <td>...</td>\n",
              "      <td>...</td>\n",
              "      <td>...</td>\n",
              "      <td>...</td>\n",
              "      <td>...</td>\n",
              "      <td>...</td>\n",
              "    </tr>\n",
              "    <tr>\n",
              "      <th>5625</th>\n",
              "      <td>55626</td>\n",
              "      <td>10.0</td>\n",
              "      <td>Computer</td>\n",
              "      <td>1</td>\n",
              "      <td>30.0</td>\n",
              "      <td>Credit Card</td>\n",
              "      <td>Male</td>\n",
              "      <td>3.0</td>\n",
              "      <td>2</td>\n",
              "      <td>Laptop &amp; Accessory</td>\n",
              "      <td>1</td>\n",
              "      <td>Married</td>\n",
              "      <td>6</td>\n",
              "      <td>0</td>\n",
              "      <td>18.0</td>\n",
              "      <td>1.0</td>\n",
              "      <td>2.0</td>\n",
              "      <td>4.0</td>\n",
              "      <td>150.71</td>\n",
              "    </tr>\n",
              "    <tr>\n",
              "      <th>5626</th>\n",
              "      <td>55627</td>\n",
              "      <td>13.0</td>\n",
              "      <td>Mobile Phone</td>\n",
              "      <td>1</td>\n",
              "      <td>13.0</td>\n",
              "      <td>Credit Card</td>\n",
              "      <td>Male</td>\n",
              "      <td>3.0</td>\n",
              "      <td>5</td>\n",
              "      <td>Fashion</td>\n",
              "      <td>5</td>\n",
              "      <td>Married</td>\n",
              "      <td>6</td>\n",
              "      <td>0</td>\n",
              "      <td>16.0</td>\n",
              "      <td>1.0</td>\n",
              "      <td>2.0</td>\n",
              "      <td>NaN</td>\n",
              "      <td>224.91</td>\n",
              "    </tr>\n",
              "    <tr>\n",
              "      <th>5627</th>\n",
              "      <td>55628</td>\n",
              "      <td>1.0</td>\n",
              "      <td>Mobile Phone</td>\n",
              "      <td>1</td>\n",
              "      <td>11.0</td>\n",
              "      <td>Debit Card</td>\n",
              "      <td>Male</td>\n",
              "      <td>3.0</td>\n",
              "      <td>2</td>\n",
              "      <td>Laptop &amp; Accessory</td>\n",
              "      <td>4</td>\n",
              "      <td>Married</td>\n",
              "      <td>3</td>\n",
              "      <td>1</td>\n",
              "      <td>21.0</td>\n",
              "      <td>1.0</td>\n",
              "      <td>2.0</td>\n",
              "      <td>4.0</td>\n",
              "      <td>186.42</td>\n",
              "    </tr>\n",
              "    <tr>\n",
              "      <th>5628</th>\n",
              "      <td>55629</td>\n",
              "      <td>23.0</td>\n",
              "      <td>Computer</td>\n",
              "      <td>3</td>\n",
              "      <td>9.0</td>\n",
              "      <td>Credit Card</td>\n",
              "      <td>Male</td>\n",
              "      <td>4.0</td>\n",
              "      <td>5</td>\n",
              "      <td>Laptop &amp; Accessory</td>\n",
              "      <td>4</td>\n",
              "      <td>Married</td>\n",
              "      <td>4</td>\n",
              "      <td>0</td>\n",
              "      <td>15.0</td>\n",
              "      <td>2.0</td>\n",
              "      <td>2.0</td>\n",
              "      <td>9.0</td>\n",
              "      <td>178.90</td>\n",
              "    </tr>\n",
              "    <tr>\n",
              "      <th>5629</th>\n",
              "      <td>55630</td>\n",
              "      <td>8.0</td>\n",
              "      <td>Mobile Phone</td>\n",
              "      <td>1</td>\n",
              "      <td>15.0</td>\n",
              "      <td>Credit Card</td>\n",
              "      <td>Male</td>\n",
              "      <td>3.0</td>\n",
              "      <td>2</td>\n",
              "      <td>Laptop &amp; Accessory</td>\n",
              "      <td>3</td>\n",
              "      <td>Married</td>\n",
              "      <td>4</td>\n",
              "      <td>0</td>\n",
              "      <td>13.0</td>\n",
              "      <td>2.0</td>\n",
              "      <td>2.0</td>\n",
              "      <td>3.0</td>\n",
              "      <td>169.04</td>\n",
              "    </tr>\n",
              "  </tbody>\n",
              "</table>\n",
              "<p>5630 rows × 19 columns</p>\n",
              "</div>\n",
              "      <button class=\"colab-df-convert\" onclick=\"convertToInteractive('df-74fa4726-efc2-4a82-9143-5f919a25935f')\"\n",
              "              title=\"Convert this dataframe to an interactive table.\"\n",
              "              style=\"display:none;\">\n",
              "        \n",
              "  <svg xmlns=\"http://www.w3.org/2000/svg\" height=\"24px\"viewBox=\"0 0 24 24\"\n",
              "       width=\"24px\">\n",
              "    <path d=\"M0 0h24v24H0V0z\" fill=\"none\"/>\n",
              "    <path d=\"M18.56 5.44l.94 2.06.94-2.06 2.06-.94-2.06-.94-.94-2.06-.94 2.06-2.06.94zm-11 1L8.5 8.5l.94-2.06 2.06-.94-2.06-.94L8.5 2.5l-.94 2.06-2.06.94zm10 10l.94 2.06.94-2.06 2.06-.94-2.06-.94-.94-2.06-.94 2.06-2.06.94z\"/><path d=\"M17.41 7.96l-1.37-1.37c-.4-.4-.92-.59-1.43-.59-.52 0-1.04.2-1.43.59L10.3 9.45l-7.72 7.72c-.78.78-.78 2.05 0 2.83L4 21.41c.39.39.9.59 1.41.59.51 0 1.02-.2 1.41-.59l7.78-7.78 2.81-2.81c.8-.78.8-2.07 0-2.86zM5.41 20L4 18.59l7.72-7.72 1.47 1.35L5.41 20z\"/>\n",
              "  </svg>\n",
              "      </button>\n",
              "      \n",
              "  <style>\n",
              "    .colab-df-container {\n",
              "      display:flex;\n",
              "      flex-wrap:wrap;\n",
              "      gap: 12px;\n",
              "    }\n",
              "\n",
              "    .colab-df-convert {\n",
              "      background-color: #E8F0FE;\n",
              "      border: none;\n",
              "      border-radius: 50%;\n",
              "      cursor: pointer;\n",
              "      display: none;\n",
              "      fill: #1967D2;\n",
              "      height: 32px;\n",
              "      padding: 0 0 0 0;\n",
              "      width: 32px;\n",
              "    }\n",
              "\n",
              "    .colab-df-convert:hover {\n",
              "      background-color: #E2EBFA;\n",
              "      box-shadow: 0px 1px 2px rgba(60, 64, 67, 0.3), 0px 1px 3px 1px rgba(60, 64, 67, 0.15);\n",
              "      fill: #174EA6;\n",
              "    }\n",
              "\n",
              "    [theme=dark] .colab-df-convert {\n",
              "      background-color: #3B4455;\n",
              "      fill: #D2E3FC;\n",
              "    }\n",
              "\n",
              "    [theme=dark] .colab-df-convert:hover {\n",
              "      background-color: #434B5C;\n",
              "      box-shadow: 0px 1px 3px 1px rgba(0, 0, 0, 0.15);\n",
              "      filter: drop-shadow(0px 1px 2px rgba(0, 0, 0, 0.3));\n",
              "      fill: #FFFFFF;\n",
              "    }\n",
              "  </style>\n",
              "\n",
              "      <script>\n",
              "        const buttonEl =\n",
              "          document.querySelector('#df-74fa4726-efc2-4a82-9143-5f919a25935f button.colab-df-convert');\n",
              "        buttonEl.style.display =\n",
              "          google.colab.kernel.accessAllowed ? 'block' : 'none';\n",
              "\n",
              "        async function convertToInteractive(key) {\n",
              "          const element = document.querySelector('#df-74fa4726-efc2-4a82-9143-5f919a25935f');\n",
              "          const dataTable =\n",
              "            await google.colab.kernel.invokeFunction('convertToInteractive',\n",
              "                                                     [key], {});\n",
              "          if (!dataTable) return;\n",
              "\n",
              "          const docLinkHtml = 'Like what you see? Visit the ' +\n",
              "            '<a target=\"_blank\" href=https://colab.research.google.com/notebooks/data_table.ipynb>data table notebook</a>'\n",
              "            + ' to learn more about interactive tables.';\n",
              "          element.innerHTML = '';\n",
              "          dataTable['output_type'] = 'display_data';\n",
              "          await google.colab.output.renderOutput(dataTable, element);\n",
              "          const docLink = document.createElement('div');\n",
              "          docLink.innerHTML = docLinkHtml;\n",
              "          element.appendChild(docLink);\n",
              "        }\n",
              "      </script>\n",
              "    </div>\n",
              "  </div>\n",
              "  "
            ]
          },
          "metadata": {},
          "execution_count": 30
        }
      ],
      "source": [
        "X"
      ]
    },
    {
      "cell_type": "code",
      "execution_count": 31,
      "id": "c5f39ffe",
      "metadata": {
        "colab": {
          "base_uri": "https://localhost:8080/"
        },
        "id": "c5f39ffe",
        "outputId": "4fc1cedd-b018-4e82-e623-13169aebd4af"
      },
      "outputs": [
        {
          "output_type": "execute_result",
          "data": {
            "text/plain": [
              "ColumnTransformer(transformers=[('Drop', 'drop', ['CustomerID']),\n",
              "                                ('numerical_transformation',\n",
              "                                 Pipeline(steps=[('numeerical_mean_imputer',\n",
              "                                                  SimpleImputer()),\n",
              "                                                 ('scale', StandardScaler())]),\n",
              "                                 ['Tenure', 'CityTier', 'WarehouseToHome',\n",
              "                                  'HourSpendOnApp', 'NumberOfDeviceRegistered',\n",
              "                                  'SatisfactionScore', 'NumberOfAddress',\n",
              "                                  'Complain', 'OrderAmountHikeFromlastYear',\n",
              "                                  'CouponUsed', 'OrderCount',\n",
              "                                  'DaySinceLastOrder', 'CashbackAmount']),\n",
              "                                ('categorical_transformation',\n",
              "                                 Pipeline(steps=[('encoding',\n",
              "                                                  OneHotEncoder(drop='first')),\n",
              "                                                 ('categorical_mode_imputer',\n",
              "                                                  SimpleImputer(strategy='most_frequent'))]),\n",
              "                                 ['PreferredLoginDevice',\n",
              "                                  'PreferredPaymentMode', 'Gender',\n",
              "                                  'PreferedOrderCat', 'MaritalStatus'])])"
            ]
          },
          "metadata": {},
          "execution_count": 31
        }
      ],
      "source": [
        "col_transformer.fit(X)"
      ]
    },
    {
      "cell_type": "code",
      "execution_count": 32,
      "id": "9882811b",
      "metadata": {
        "id": "9882811b"
      },
      "outputs": [],
      "source": [
        "temp_X = X"
      ]
    },
    {
      "cell_type": "code",
      "execution_count": 33,
      "id": "46351eec",
      "metadata": {
        "id": "46351eec"
      },
      "outputs": [],
      "source": [
        "trans_data = pd.DataFrame(col_transformer.transform(temp_X)).copy()"
      ]
    },
    {
      "cell_type": "code",
      "execution_count": 34,
      "id": "507d1869",
      "metadata": {
        "colab": {
          "base_uri": "https://localhost:8080/",
          "height": 423
        },
        "id": "507d1869",
        "outputId": "0448edc5-d47a-4891-ff4f-c70acecb1265"
      },
      "outputs": [
        {
          "output_type": "execute_result",
          "data": {
            "text/plain": [
              "            0         1         2         3         4         5         6   \\\n",
              "0    -0.741002  1.469771 -1.156091  0.097069 -0.672900 -0.772992  1.852616   \n",
              "1     0.000000 -0.715286 -0.916235  0.097069  0.303750 -0.048392  1.078430   \n",
              "2     0.000000 -0.715286  1.722175 -1.320723  0.303750 -0.048392  0.691336   \n",
              "3    -1.219847  1.469771 -0.076741 -1.320723  0.303750  1.400807  1.465523   \n",
              "4    -1.219847 -0.715286 -0.436525  0.000000 -0.672900  1.400807 -0.469944   \n",
              "...        ...       ...       ...       ...       ...       ...       ...   \n",
              "5625 -0.022733 -0.715286  1.722175  0.097069 -1.649551 -1.497592  0.691336   \n",
              "5626  0.336401 -0.715286 -0.316597  0.097069  1.280401  1.400807  0.691336   \n",
              "5627 -1.100136 -0.715286 -0.556452  0.097069 -1.649551  0.676207 -0.469944   \n",
              "5628  1.533515  1.469771 -0.796308  1.514862  1.280401  0.676207 -0.082850   \n",
              "5629 -0.262156 -0.715286 -0.076741  0.097069 -1.649551 -0.048392 -0.082850   \n",
              "\n",
              "            7         8         9   ...   19   20   21   22   23   24   25  \\\n",
              "0     1.584290 -1.312273 -0.405767  ...  0.0  0.0  0.0  0.0  1.0  0.0  0.0   \n",
              "1     1.584290 -0.197324 -0.946053  ...  0.0  1.0  1.0  0.0  0.0  1.0  0.0   \n",
              "2     1.584290 -0.476062 -0.946053  ...  0.0  0.0  1.0  0.0  0.0  1.0  0.0   \n",
              "3    -0.631198  2.032574 -0.946053  ...  0.0  0.0  1.0  0.0  1.0  0.0  0.0   \n",
              "4    -0.631198 -1.312273 -0.405767  ...  0.0  0.0  1.0  0.0  0.0  1.0  0.0   \n",
              "...        ...       ...       ...  ...  ...  ...  ...  ...  ...  ...  ...   \n",
              "5625 -0.631198  0.638888 -0.405767  ...  0.0  0.0  1.0  0.0  1.0  0.0  0.0   \n",
              "5626 -0.631198  0.081413 -0.405767  ...  0.0  0.0  1.0  0.0  0.0  0.0  0.0   \n",
              "5627  1.584290  1.475100 -0.405767  ...  0.0  0.0  1.0  0.0  1.0  0.0  0.0   \n",
              "5628 -0.631198 -0.197324  0.134518  ...  0.0  0.0  1.0  0.0  1.0  0.0  0.0   \n",
              "5629 -0.631198 -0.754799  0.134518  ...  0.0  0.0  1.0  0.0  1.0  0.0  0.0   \n",
              "\n",
              "       26   27   28  \n",
              "0     0.0  0.0  1.0  \n",
              "1     0.0  0.0  1.0  \n",
              "2     0.0  0.0  1.0  \n",
              "3     0.0  0.0  1.0  \n",
              "4     0.0  0.0  1.0  \n",
              "...   ...  ...  ...  \n",
              "5625  0.0  1.0  0.0  \n",
              "5626  0.0  1.0  0.0  \n",
              "5627  0.0  1.0  0.0  \n",
              "5628  0.0  1.0  0.0  \n",
              "5629  0.0  1.0  0.0  \n",
              "\n",
              "[5630 rows x 29 columns]"
            ],
            "text/html": [
              "\n",
              "  <div id=\"df-40f527d0-0d79-4644-8fb9-7ee9e320634b\">\n",
              "    <div class=\"colab-df-container\">\n",
              "      <div>\n",
              "<style scoped>\n",
              "    .dataframe tbody tr th:only-of-type {\n",
              "        vertical-align: middle;\n",
              "    }\n",
              "\n",
              "    .dataframe tbody tr th {\n",
              "        vertical-align: top;\n",
              "    }\n",
              "\n",
              "    .dataframe thead th {\n",
              "        text-align: right;\n",
              "    }\n",
              "</style>\n",
              "<table border=\"1\" class=\"dataframe\">\n",
              "  <thead>\n",
              "    <tr style=\"text-align: right;\">\n",
              "      <th></th>\n",
              "      <th>0</th>\n",
              "      <th>1</th>\n",
              "      <th>2</th>\n",
              "      <th>3</th>\n",
              "      <th>4</th>\n",
              "      <th>5</th>\n",
              "      <th>6</th>\n",
              "      <th>7</th>\n",
              "      <th>8</th>\n",
              "      <th>9</th>\n",
              "      <th>...</th>\n",
              "      <th>19</th>\n",
              "      <th>20</th>\n",
              "      <th>21</th>\n",
              "      <th>22</th>\n",
              "      <th>23</th>\n",
              "      <th>24</th>\n",
              "      <th>25</th>\n",
              "      <th>26</th>\n",
              "      <th>27</th>\n",
              "      <th>28</th>\n",
              "    </tr>\n",
              "  </thead>\n",
              "  <tbody>\n",
              "    <tr>\n",
              "      <th>0</th>\n",
              "      <td>-0.741002</td>\n",
              "      <td>1.469771</td>\n",
              "      <td>-1.156091</td>\n",
              "      <td>0.097069</td>\n",
              "      <td>-0.672900</td>\n",
              "      <td>-0.772992</td>\n",
              "      <td>1.852616</td>\n",
              "      <td>1.584290</td>\n",
              "      <td>-1.312273</td>\n",
              "      <td>-0.405767</td>\n",
              "      <td>...</td>\n",
              "      <td>0.0</td>\n",
              "      <td>0.0</td>\n",
              "      <td>0.0</td>\n",
              "      <td>0.0</td>\n",
              "      <td>1.0</td>\n",
              "      <td>0.0</td>\n",
              "      <td>0.0</td>\n",
              "      <td>0.0</td>\n",
              "      <td>0.0</td>\n",
              "      <td>1.0</td>\n",
              "    </tr>\n",
              "    <tr>\n",
              "      <th>1</th>\n",
              "      <td>0.000000</td>\n",
              "      <td>-0.715286</td>\n",
              "      <td>-0.916235</td>\n",
              "      <td>0.097069</td>\n",
              "      <td>0.303750</td>\n",
              "      <td>-0.048392</td>\n",
              "      <td>1.078430</td>\n",
              "      <td>1.584290</td>\n",
              "      <td>-0.197324</td>\n",
              "      <td>-0.946053</td>\n",
              "      <td>...</td>\n",
              "      <td>0.0</td>\n",
              "      <td>1.0</td>\n",
              "      <td>1.0</td>\n",
              "      <td>0.0</td>\n",
              "      <td>0.0</td>\n",
              "      <td>1.0</td>\n",
              "      <td>0.0</td>\n",
              "      <td>0.0</td>\n",
              "      <td>0.0</td>\n",
              "      <td>1.0</td>\n",
              "    </tr>\n",
              "    <tr>\n",
              "      <th>2</th>\n",
              "      <td>0.000000</td>\n",
              "      <td>-0.715286</td>\n",
              "      <td>1.722175</td>\n",
              "      <td>-1.320723</td>\n",
              "      <td>0.303750</td>\n",
              "      <td>-0.048392</td>\n",
              "      <td>0.691336</td>\n",
              "      <td>1.584290</td>\n",
              "      <td>-0.476062</td>\n",
              "      <td>-0.946053</td>\n",
              "      <td>...</td>\n",
              "      <td>0.0</td>\n",
              "      <td>0.0</td>\n",
              "      <td>1.0</td>\n",
              "      <td>0.0</td>\n",
              "      <td>0.0</td>\n",
              "      <td>1.0</td>\n",
              "      <td>0.0</td>\n",
              "      <td>0.0</td>\n",
              "      <td>0.0</td>\n",
              "      <td>1.0</td>\n",
              "    </tr>\n",
              "    <tr>\n",
              "      <th>3</th>\n",
              "      <td>-1.219847</td>\n",
              "      <td>1.469771</td>\n",
              "      <td>-0.076741</td>\n",
              "      <td>-1.320723</td>\n",
              "      <td>0.303750</td>\n",
              "      <td>1.400807</td>\n",
              "      <td>1.465523</td>\n",
              "      <td>-0.631198</td>\n",
              "      <td>2.032574</td>\n",
              "      <td>-0.946053</td>\n",
              "      <td>...</td>\n",
              "      <td>0.0</td>\n",
              "      <td>0.0</td>\n",
              "      <td>1.0</td>\n",
              "      <td>0.0</td>\n",
              "      <td>1.0</td>\n",
              "      <td>0.0</td>\n",
              "      <td>0.0</td>\n",
              "      <td>0.0</td>\n",
              "      <td>0.0</td>\n",
              "      <td>1.0</td>\n",
              "    </tr>\n",
              "    <tr>\n",
              "      <th>4</th>\n",
              "      <td>-1.219847</td>\n",
              "      <td>-0.715286</td>\n",
              "      <td>-0.436525</td>\n",
              "      <td>0.000000</td>\n",
              "      <td>-0.672900</td>\n",
              "      <td>1.400807</td>\n",
              "      <td>-0.469944</td>\n",
              "      <td>-0.631198</td>\n",
              "      <td>-1.312273</td>\n",
              "      <td>-0.405767</td>\n",
              "      <td>...</td>\n",
              "      <td>0.0</td>\n",
              "      <td>0.0</td>\n",
              "      <td>1.0</td>\n",
              "      <td>0.0</td>\n",
              "      <td>0.0</td>\n",
              "      <td>1.0</td>\n",
              "      <td>0.0</td>\n",
              "      <td>0.0</td>\n",
              "      <td>0.0</td>\n",
              "      <td>1.0</td>\n",
              "    </tr>\n",
              "    <tr>\n",
              "      <th>...</th>\n",
              "      <td>...</td>\n",
              "      <td>...</td>\n",
              "      <td>...</td>\n",
              "      <td>...</td>\n",
              "      <td>...</td>\n",
              "      <td>...</td>\n",
              "      <td>...</td>\n",
              "      <td>...</td>\n",
              "      <td>...</td>\n",
              "      <td>...</td>\n",
              "      <td>...</td>\n",
              "      <td>...</td>\n",
              "      <td>...</td>\n",
              "      <td>...</td>\n",
              "      <td>...</td>\n",
              "      <td>...</td>\n",
              "      <td>...</td>\n",
              "      <td>...</td>\n",
              "      <td>...</td>\n",
              "      <td>...</td>\n",
              "      <td>...</td>\n",
              "    </tr>\n",
              "    <tr>\n",
              "      <th>5625</th>\n",
              "      <td>-0.022733</td>\n",
              "      <td>-0.715286</td>\n",
              "      <td>1.722175</td>\n",
              "      <td>0.097069</td>\n",
              "      <td>-1.649551</td>\n",
              "      <td>-1.497592</td>\n",
              "      <td>0.691336</td>\n",
              "      <td>-0.631198</td>\n",
              "      <td>0.638888</td>\n",
              "      <td>-0.405767</td>\n",
              "      <td>...</td>\n",
              "      <td>0.0</td>\n",
              "      <td>0.0</td>\n",
              "      <td>1.0</td>\n",
              "      <td>0.0</td>\n",
              "      <td>1.0</td>\n",
              "      <td>0.0</td>\n",
              "      <td>0.0</td>\n",
              "      <td>0.0</td>\n",
              "      <td>1.0</td>\n",
              "      <td>0.0</td>\n",
              "    </tr>\n",
              "    <tr>\n",
              "      <th>5626</th>\n",
              "      <td>0.336401</td>\n",
              "      <td>-0.715286</td>\n",
              "      <td>-0.316597</td>\n",
              "      <td>0.097069</td>\n",
              "      <td>1.280401</td>\n",
              "      <td>1.400807</td>\n",
              "      <td>0.691336</td>\n",
              "      <td>-0.631198</td>\n",
              "      <td>0.081413</td>\n",
              "      <td>-0.405767</td>\n",
              "      <td>...</td>\n",
              "      <td>0.0</td>\n",
              "      <td>0.0</td>\n",
              "      <td>1.0</td>\n",
              "      <td>0.0</td>\n",
              "      <td>0.0</td>\n",
              "      <td>0.0</td>\n",
              "      <td>0.0</td>\n",
              "      <td>0.0</td>\n",
              "      <td>1.0</td>\n",
              "      <td>0.0</td>\n",
              "    </tr>\n",
              "    <tr>\n",
              "      <th>5627</th>\n",
              "      <td>-1.100136</td>\n",
              "      <td>-0.715286</td>\n",
              "      <td>-0.556452</td>\n",
              "      <td>0.097069</td>\n",
              "      <td>-1.649551</td>\n",
              "      <td>0.676207</td>\n",
              "      <td>-0.469944</td>\n",
              "      <td>1.584290</td>\n",
              "      <td>1.475100</td>\n",
              "      <td>-0.405767</td>\n",
              "      <td>...</td>\n",
              "      <td>0.0</td>\n",
              "      <td>0.0</td>\n",
              "      <td>1.0</td>\n",
              "      <td>0.0</td>\n",
              "      <td>1.0</td>\n",
              "      <td>0.0</td>\n",
              "      <td>0.0</td>\n",
              "      <td>0.0</td>\n",
              "      <td>1.0</td>\n",
              "      <td>0.0</td>\n",
              "    </tr>\n",
              "    <tr>\n",
              "      <th>5628</th>\n",
              "      <td>1.533515</td>\n",
              "      <td>1.469771</td>\n",
              "      <td>-0.796308</td>\n",
              "      <td>1.514862</td>\n",
              "      <td>1.280401</td>\n",
              "      <td>0.676207</td>\n",
              "      <td>-0.082850</td>\n",
              "      <td>-0.631198</td>\n",
              "      <td>-0.197324</td>\n",
              "      <td>0.134518</td>\n",
              "      <td>...</td>\n",
              "      <td>0.0</td>\n",
              "      <td>0.0</td>\n",
              "      <td>1.0</td>\n",
              "      <td>0.0</td>\n",
              "      <td>1.0</td>\n",
              "      <td>0.0</td>\n",
              "      <td>0.0</td>\n",
              "      <td>0.0</td>\n",
              "      <td>1.0</td>\n",
              "      <td>0.0</td>\n",
              "    </tr>\n",
              "    <tr>\n",
              "      <th>5629</th>\n",
              "      <td>-0.262156</td>\n",
              "      <td>-0.715286</td>\n",
              "      <td>-0.076741</td>\n",
              "      <td>0.097069</td>\n",
              "      <td>-1.649551</td>\n",
              "      <td>-0.048392</td>\n",
              "      <td>-0.082850</td>\n",
              "      <td>-0.631198</td>\n",
              "      <td>-0.754799</td>\n",
              "      <td>0.134518</td>\n",
              "      <td>...</td>\n",
              "      <td>0.0</td>\n",
              "      <td>0.0</td>\n",
              "      <td>1.0</td>\n",
              "      <td>0.0</td>\n",
              "      <td>1.0</td>\n",
              "      <td>0.0</td>\n",
              "      <td>0.0</td>\n",
              "      <td>0.0</td>\n",
              "      <td>1.0</td>\n",
              "      <td>0.0</td>\n",
              "    </tr>\n",
              "  </tbody>\n",
              "</table>\n",
              "<p>5630 rows × 29 columns</p>\n",
              "</div>\n",
              "      <button class=\"colab-df-convert\" onclick=\"convertToInteractive('df-40f527d0-0d79-4644-8fb9-7ee9e320634b')\"\n",
              "              title=\"Convert this dataframe to an interactive table.\"\n",
              "              style=\"display:none;\">\n",
              "        \n",
              "  <svg xmlns=\"http://www.w3.org/2000/svg\" height=\"24px\"viewBox=\"0 0 24 24\"\n",
              "       width=\"24px\">\n",
              "    <path d=\"M0 0h24v24H0V0z\" fill=\"none\"/>\n",
              "    <path d=\"M18.56 5.44l.94 2.06.94-2.06 2.06-.94-2.06-.94-.94-2.06-.94 2.06-2.06.94zm-11 1L8.5 8.5l.94-2.06 2.06-.94-2.06-.94L8.5 2.5l-.94 2.06-2.06.94zm10 10l.94 2.06.94-2.06 2.06-.94-2.06-.94-.94-2.06-.94 2.06-2.06.94z\"/><path d=\"M17.41 7.96l-1.37-1.37c-.4-.4-.92-.59-1.43-.59-.52 0-1.04.2-1.43.59L10.3 9.45l-7.72 7.72c-.78.78-.78 2.05 0 2.83L4 21.41c.39.39.9.59 1.41.59.51 0 1.02-.2 1.41-.59l7.78-7.78 2.81-2.81c.8-.78.8-2.07 0-2.86zM5.41 20L4 18.59l7.72-7.72 1.47 1.35L5.41 20z\"/>\n",
              "  </svg>\n",
              "      </button>\n",
              "      \n",
              "  <style>\n",
              "    .colab-df-container {\n",
              "      display:flex;\n",
              "      flex-wrap:wrap;\n",
              "      gap: 12px;\n",
              "    }\n",
              "\n",
              "    .colab-df-convert {\n",
              "      background-color: #E8F0FE;\n",
              "      border: none;\n",
              "      border-radius: 50%;\n",
              "      cursor: pointer;\n",
              "      display: none;\n",
              "      fill: #1967D2;\n",
              "      height: 32px;\n",
              "      padding: 0 0 0 0;\n",
              "      width: 32px;\n",
              "    }\n",
              "\n",
              "    .colab-df-convert:hover {\n",
              "      background-color: #E2EBFA;\n",
              "      box-shadow: 0px 1px 2px rgba(60, 64, 67, 0.3), 0px 1px 3px 1px rgba(60, 64, 67, 0.15);\n",
              "      fill: #174EA6;\n",
              "    }\n",
              "\n",
              "    [theme=dark] .colab-df-convert {\n",
              "      background-color: #3B4455;\n",
              "      fill: #D2E3FC;\n",
              "    }\n",
              "\n",
              "    [theme=dark] .colab-df-convert:hover {\n",
              "      background-color: #434B5C;\n",
              "      box-shadow: 0px 1px 3px 1px rgba(0, 0, 0, 0.15);\n",
              "      filter: drop-shadow(0px 1px 2px rgba(0, 0, 0, 0.3));\n",
              "      fill: #FFFFFF;\n",
              "    }\n",
              "  </style>\n",
              "\n",
              "      <script>\n",
              "        const buttonEl =\n",
              "          document.querySelector('#df-40f527d0-0d79-4644-8fb9-7ee9e320634b button.colab-df-convert');\n",
              "        buttonEl.style.display =\n",
              "          google.colab.kernel.accessAllowed ? 'block' : 'none';\n",
              "\n",
              "        async function convertToInteractive(key) {\n",
              "          const element = document.querySelector('#df-40f527d0-0d79-4644-8fb9-7ee9e320634b');\n",
              "          const dataTable =\n",
              "            await google.colab.kernel.invokeFunction('convertToInteractive',\n",
              "                                                     [key], {});\n",
              "          if (!dataTable) return;\n",
              "\n",
              "          const docLinkHtml = 'Like what you see? Visit the ' +\n",
              "            '<a target=\"_blank\" href=https://colab.research.google.com/notebooks/data_table.ipynb>data table notebook</a>'\n",
              "            + ' to learn more about interactive tables.';\n",
              "          element.innerHTML = '';\n",
              "          dataTable['output_type'] = 'display_data';\n",
              "          await google.colab.output.renderOutput(dataTable, element);\n",
              "          const docLink = document.createElement('div');\n",
              "          docLink.innerHTML = docLinkHtml;\n",
              "          element.appendChild(docLink);\n",
              "        }\n",
              "      </script>\n",
              "    </div>\n",
              "  </div>\n",
              "  "
            ]
          },
          "metadata": {},
          "execution_count": 34
        }
      ],
      "source": [
        "trans_data"
      ]
    },
    {
      "cell_type": "code",
      "execution_count": 35,
      "id": "f7784ee0",
      "metadata": {
        "id": "f7784ee0"
      },
      "outputs": [],
      "source": [
        "#fill null value with mean of the respective feature"
      ]
    },
    {
      "cell_type": "code",
      "execution_count": 36,
      "id": "bb475103",
      "metadata": {
        "id": "bb475103"
      },
      "outputs": [],
      "source": [
        "df['Tenure'].fillna(value = df['Tenure'].mean(),inplace=True)"
      ]
    },
    {
      "cell_type": "code",
      "execution_count": 37,
      "id": "b0c3f1a3",
      "metadata": {
        "id": "b0c3f1a3"
      },
      "outputs": [],
      "source": [
        "df['WarehouseToHome'].fillna(value = df['WarehouseToHome'].mean(),inplace=True)"
      ]
    },
    {
      "cell_type": "code",
      "execution_count": 38,
      "id": "7cc4a92c",
      "metadata": {
        "id": "7cc4a92c"
      },
      "outputs": [],
      "source": [
        "df['HourSpendOnApp'].fillna(value = df['HourSpendOnApp'].mean(),inplace=True)"
      ]
    },
    {
      "cell_type": "code",
      "execution_count": 39,
      "id": "3d0453ac",
      "metadata": {
        "id": "3d0453ac"
      },
      "outputs": [],
      "source": [
        "df['OrderAmountHikeFromlastYear'].fillna(value = df['OrderAmountHikeFromlastYear'].mean(),inplace=True)"
      ]
    },
    {
      "cell_type": "code",
      "execution_count": 40,
      "id": "139dab00",
      "metadata": {
        "id": "139dab00"
      },
      "outputs": [],
      "source": [
        "df['CouponUsed'].fillna(value = df['CouponUsed'].mean(),inplace=True)"
      ]
    },
    {
      "cell_type": "code",
      "execution_count": 41,
      "id": "003a149c",
      "metadata": {
        "id": "003a149c"
      },
      "outputs": [],
      "source": [
        "df['OrderCount'].fillna(value = df['OrderCount'].mean(),inplace=True)"
      ]
    },
    {
      "cell_type": "code",
      "execution_count": 42,
      "id": "48fa135a",
      "metadata": {
        "id": "48fa135a"
      },
      "outputs": [],
      "source": [
        "df['DaySinceLastOrder'].fillna(value = df['DaySinceLastOrder'].mean(),inplace=True)"
      ]
    },
    {
      "cell_type": "code",
      "execution_count": 43,
      "id": "f31d931e",
      "metadata": {
        "colab": {
          "base_uri": "https://localhost:8080/"
        },
        "id": "f31d931e",
        "outputId": "23a74698-947c-4752-a2df-c35de9235c65"
      },
      "outputs": [
        {
          "output_type": "execute_result",
          "data": {
            "text/plain": [
              "CustomerID                     0\n",
              "Churn                          0\n",
              "Tenure                         0\n",
              "PreferredLoginDevice           0\n",
              "CityTier                       0\n",
              "WarehouseToHome                0\n",
              "PreferredPaymentMode           0\n",
              "Gender                         0\n",
              "HourSpendOnApp                 0\n",
              "NumberOfDeviceRegistered       0\n",
              "PreferedOrderCat               0\n",
              "SatisfactionScore              0\n",
              "MaritalStatus                  0\n",
              "NumberOfAddress                0\n",
              "Complain                       0\n",
              "OrderAmountHikeFromlastYear    0\n",
              "CouponUsed                     0\n",
              "OrderCount                     0\n",
              "DaySinceLastOrder              0\n",
              "CashbackAmount                 0\n",
              "dtype: int64"
            ]
          },
          "metadata": {},
          "execution_count": 43
        }
      ],
      "source": [
        "df.isnull().sum()"
      ]
    },
    {
      "cell_type": "code",
      "execution_count": 44,
      "id": "09e5a9b6",
      "metadata": {
        "colab": {
          "base_uri": "https://localhost:8080/"
        },
        "id": "09e5a9b6",
        "outputId": "a3b1a6d0-0999-4472-f61e-e8b81e2a8394"
      },
      "outputs": [
        {
          "output_type": "stream",
          "name": "stdout",
          "text": [
            "<class 'pandas.core.frame.DataFrame'>\n",
            "RangeIndex: 5630 entries, 0 to 5629\n",
            "Data columns (total 20 columns):\n",
            " #   Column                       Non-Null Count  Dtype  \n",
            "---  ------                       --------------  -----  \n",
            " 0   CustomerID                   5630 non-null   int64  \n",
            " 1   Churn                        5630 non-null   int64  \n",
            " 2   Tenure                       5630 non-null   float64\n",
            " 3   PreferredLoginDevice         5630 non-null   object \n",
            " 4   CityTier                     5630 non-null   int64  \n",
            " 5   WarehouseToHome              5630 non-null   float64\n",
            " 6   PreferredPaymentMode         5630 non-null   object \n",
            " 7   Gender                       5630 non-null   object \n",
            " 8   HourSpendOnApp               5630 non-null   float64\n",
            " 9   NumberOfDeviceRegistered     5630 non-null   int64  \n",
            " 10  PreferedOrderCat             5630 non-null   object \n",
            " 11  SatisfactionScore            5630 non-null   int64  \n",
            " 12  MaritalStatus                5630 non-null   object \n",
            " 13  NumberOfAddress              5630 non-null   int64  \n",
            " 14  Complain                     5630 non-null   int64  \n",
            " 15  OrderAmountHikeFromlastYear  5630 non-null   float64\n",
            " 16  CouponUsed                   5630 non-null   float64\n",
            " 17  OrderCount                   5630 non-null   float64\n",
            " 18  DaySinceLastOrder            5630 non-null   float64\n",
            " 19  CashbackAmount               5630 non-null   float64\n",
            "dtypes: float64(8), int64(7), object(5)\n",
            "memory usage: 879.8+ KB\n"
          ]
        }
      ],
      "source": [
        "df.info()"
      ]
    },
    {
      "cell_type": "code",
      "execution_count": 45,
      "id": "c6118c43",
      "metadata": {
        "id": "c6118c43"
      },
      "outputs": [],
      "source": [
        "#Categorical feature"
      ]
    },
    {
      "cell_type": "code",
      "execution_count": 46,
      "id": "33b09db3",
      "metadata": {
        "id": "33b09db3"
      },
      "outputs": [],
      "source": [
        "cat_col = [i for i in df.columns if df[i].dtypes == 'object']"
      ]
    },
    {
      "cell_type": "code",
      "execution_count": 47,
      "id": "71be4c7d",
      "metadata": {
        "colab": {
          "base_uri": "https://localhost:8080/"
        },
        "id": "71be4c7d",
        "outputId": "cc0effa1-0364-4eb9-f2d1-a8c6187f6352"
      },
      "outputs": [
        {
          "output_type": "execute_result",
          "data": {
            "text/plain": [
              "['PreferredLoginDevice',\n",
              " 'PreferredPaymentMode',\n",
              " 'Gender',\n",
              " 'PreferedOrderCat',\n",
              " 'MaritalStatus']"
            ]
          },
          "metadata": {},
          "execution_count": 47
        }
      ],
      "source": [
        "cat_col"
      ]
    },
    {
      "cell_type": "code",
      "execution_count": 48,
      "id": "d04702da",
      "metadata": {
        "id": "d04702da"
      },
      "outputs": [],
      "source": [
        "num_col = [i for i in df.columns if df[i].dtypes != 'object']"
      ]
    },
    {
      "cell_type": "code",
      "execution_count": 49,
      "id": "c5d44b8e",
      "metadata": {
        "colab": {
          "base_uri": "https://localhost:8080/",
          "height": 423
        },
        "id": "c5d44b8e",
        "outputId": "de750ab8-5b10-4e1d-ae32-a91a8de98c8e"
      },
      "outputs": [
        {
          "output_type": "execute_result",
          "data": {
            "text/plain": [
              "     PreferredLoginDevice PreferredPaymentMode  Gender    PreferedOrderCat  \\\n",
              "0            Mobile Phone           Debit Card  Female  Laptop & Accessory   \n",
              "1                   Phone                  UPI    Male              Mobile   \n",
              "2                   Phone           Debit Card    Male              Mobile   \n",
              "3                   Phone           Debit Card    Male  Laptop & Accessory   \n",
              "4                   Phone                   CC    Male              Mobile   \n",
              "...                   ...                  ...     ...                 ...   \n",
              "5625             Computer          Credit Card    Male  Laptop & Accessory   \n",
              "5626         Mobile Phone          Credit Card    Male             Fashion   \n",
              "5627         Mobile Phone           Debit Card    Male  Laptop & Accessory   \n",
              "5628             Computer          Credit Card    Male  Laptop & Accessory   \n",
              "5629         Mobile Phone          Credit Card    Male  Laptop & Accessory   \n",
              "\n",
              "     MaritalStatus  \n",
              "0           Single  \n",
              "1           Single  \n",
              "2           Single  \n",
              "3           Single  \n",
              "4           Single  \n",
              "...            ...  \n",
              "5625       Married  \n",
              "5626       Married  \n",
              "5627       Married  \n",
              "5628       Married  \n",
              "5629       Married  \n",
              "\n",
              "[5630 rows x 5 columns]"
            ],
            "text/html": [
              "\n",
              "  <div id=\"df-a3a1ade4-4c32-4ce5-bf69-875f0c763922\">\n",
              "    <div class=\"colab-df-container\">\n",
              "      <div>\n",
              "<style scoped>\n",
              "    .dataframe tbody tr th:only-of-type {\n",
              "        vertical-align: middle;\n",
              "    }\n",
              "\n",
              "    .dataframe tbody tr th {\n",
              "        vertical-align: top;\n",
              "    }\n",
              "\n",
              "    .dataframe thead th {\n",
              "        text-align: right;\n",
              "    }\n",
              "</style>\n",
              "<table border=\"1\" class=\"dataframe\">\n",
              "  <thead>\n",
              "    <tr style=\"text-align: right;\">\n",
              "      <th></th>\n",
              "      <th>PreferredLoginDevice</th>\n",
              "      <th>PreferredPaymentMode</th>\n",
              "      <th>Gender</th>\n",
              "      <th>PreferedOrderCat</th>\n",
              "      <th>MaritalStatus</th>\n",
              "    </tr>\n",
              "  </thead>\n",
              "  <tbody>\n",
              "    <tr>\n",
              "      <th>0</th>\n",
              "      <td>Mobile Phone</td>\n",
              "      <td>Debit Card</td>\n",
              "      <td>Female</td>\n",
              "      <td>Laptop &amp; Accessory</td>\n",
              "      <td>Single</td>\n",
              "    </tr>\n",
              "    <tr>\n",
              "      <th>1</th>\n",
              "      <td>Phone</td>\n",
              "      <td>UPI</td>\n",
              "      <td>Male</td>\n",
              "      <td>Mobile</td>\n",
              "      <td>Single</td>\n",
              "    </tr>\n",
              "    <tr>\n",
              "      <th>2</th>\n",
              "      <td>Phone</td>\n",
              "      <td>Debit Card</td>\n",
              "      <td>Male</td>\n",
              "      <td>Mobile</td>\n",
              "      <td>Single</td>\n",
              "    </tr>\n",
              "    <tr>\n",
              "      <th>3</th>\n",
              "      <td>Phone</td>\n",
              "      <td>Debit Card</td>\n",
              "      <td>Male</td>\n",
              "      <td>Laptop &amp; Accessory</td>\n",
              "      <td>Single</td>\n",
              "    </tr>\n",
              "    <tr>\n",
              "      <th>4</th>\n",
              "      <td>Phone</td>\n",
              "      <td>CC</td>\n",
              "      <td>Male</td>\n",
              "      <td>Mobile</td>\n",
              "      <td>Single</td>\n",
              "    </tr>\n",
              "    <tr>\n",
              "      <th>...</th>\n",
              "      <td>...</td>\n",
              "      <td>...</td>\n",
              "      <td>...</td>\n",
              "      <td>...</td>\n",
              "      <td>...</td>\n",
              "    </tr>\n",
              "    <tr>\n",
              "      <th>5625</th>\n",
              "      <td>Computer</td>\n",
              "      <td>Credit Card</td>\n",
              "      <td>Male</td>\n",
              "      <td>Laptop &amp; Accessory</td>\n",
              "      <td>Married</td>\n",
              "    </tr>\n",
              "    <tr>\n",
              "      <th>5626</th>\n",
              "      <td>Mobile Phone</td>\n",
              "      <td>Credit Card</td>\n",
              "      <td>Male</td>\n",
              "      <td>Fashion</td>\n",
              "      <td>Married</td>\n",
              "    </tr>\n",
              "    <tr>\n",
              "      <th>5627</th>\n",
              "      <td>Mobile Phone</td>\n",
              "      <td>Debit Card</td>\n",
              "      <td>Male</td>\n",
              "      <td>Laptop &amp; Accessory</td>\n",
              "      <td>Married</td>\n",
              "    </tr>\n",
              "    <tr>\n",
              "      <th>5628</th>\n",
              "      <td>Computer</td>\n",
              "      <td>Credit Card</td>\n",
              "      <td>Male</td>\n",
              "      <td>Laptop &amp; Accessory</td>\n",
              "      <td>Married</td>\n",
              "    </tr>\n",
              "    <tr>\n",
              "      <th>5629</th>\n",
              "      <td>Mobile Phone</td>\n",
              "      <td>Credit Card</td>\n",
              "      <td>Male</td>\n",
              "      <td>Laptop &amp; Accessory</td>\n",
              "      <td>Married</td>\n",
              "    </tr>\n",
              "  </tbody>\n",
              "</table>\n",
              "<p>5630 rows × 5 columns</p>\n",
              "</div>\n",
              "      <button class=\"colab-df-convert\" onclick=\"convertToInteractive('df-a3a1ade4-4c32-4ce5-bf69-875f0c763922')\"\n",
              "              title=\"Convert this dataframe to an interactive table.\"\n",
              "              style=\"display:none;\">\n",
              "        \n",
              "  <svg xmlns=\"http://www.w3.org/2000/svg\" height=\"24px\"viewBox=\"0 0 24 24\"\n",
              "       width=\"24px\">\n",
              "    <path d=\"M0 0h24v24H0V0z\" fill=\"none\"/>\n",
              "    <path d=\"M18.56 5.44l.94 2.06.94-2.06 2.06-.94-2.06-.94-.94-2.06-.94 2.06-2.06.94zm-11 1L8.5 8.5l.94-2.06 2.06-.94-2.06-.94L8.5 2.5l-.94 2.06-2.06.94zm10 10l.94 2.06.94-2.06 2.06-.94-2.06-.94-.94-2.06-.94 2.06-2.06.94z\"/><path d=\"M17.41 7.96l-1.37-1.37c-.4-.4-.92-.59-1.43-.59-.52 0-1.04.2-1.43.59L10.3 9.45l-7.72 7.72c-.78.78-.78 2.05 0 2.83L4 21.41c.39.39.9.59 1.41.59.51 0 1.02-.2 1.41-.59l7.78-7.78 2.81-2.81c.8-.78.8-2.07 0-2.86zM5.41 20L4 18.59l7.72-7.72 1.47 1.35L5.41 20z\"/>\n",
              "  </svg>\n",
              "      </button>\n",
              "      \n",
              "  <style>\n",
              "    .colab-df-container {\n",
              "      display:flex;\n",
              "      flex-wrap:wrap;\n",
              "      gap: 12px;\n",
              "    }\n",
              "\n",
              "    .colab-df-convert {\n",
              "      background-color: #E8F0FE;\n",
              "      border: none;\n",
              "      border-radius: 50%;\n",
              "      cursor: pointer;\n",
              "      display: none;\n",
              "      fill: #1967D2;\n",
              "      height: 32px;\n",
              "      padding: 0 0 0 0;\n",
              "      width: 32px;\n",
              "    }\n",
              "\n",
              "    .colab-df-convert:hover {\n",
              "      background-color: #E2EBFA;\n",
              "      box-shadow: 0px 1px 2px rgba(60, 64, 67, 0.3), 0px 1px 3px 1px rgba(60, 64, 67, 0.15);\n",
              "      fill: #174EA6;\n",
              "    }\n",
              "\n",
              "    [theme=dark] .colab-df-convert {\n",
              "      background-color: #3B4455;\n",
              "      fill: #D2E3FC;\n",
              "    }\n",
              "\n",
              "    [theme=dark] .colab-df-convert:hover {\n",
              "      background-color: #434B5C;\n",
              "      box-shadow: 0px 1px 3px 1px rgba(0, 0, 0, 0.15);\n",
              "      filter: drop-shadow(0px 1px 2px rgba(0, 0, 0, 0.3));\n",
              "      fill: #FFFFFF;\n",
              "    }\n",
              "  </style>\n",
              "\n",
              "      <script>\n",
              "        const buttonEl =\n",
              "          document.querySelector('#df-a3a1ade4-4c32-4ce5-bf69-875f0c763922 button.colab-df-convert');\n",
              "        buttonEl.style.display =\n",
              "          google.colab.kernel.accessAllowed ? 'block' : 'none';\n",
              "\n",
              "        async function convertToInteractive(key) {\n",
              "          const element = document.querySelector('#df-a3a1ade4-4c32-4ce5-bf69-875f0c763922');\n",
              "          const dataTable =\n",
              "            await google.colab.kernel.invokeFunction('convertToInteractive',\n",
              "                                                     [key], {});\n",
              "          if (!dataTable) return;\n",
              "\n",
              "          const docLinkHtml = 'Like what you see? Visit the ' +\n",
              "            '<a target=\"_blank\" href=https://colab.research.google.com/notebooks/data_table.ipynb>data table notebook</a>'\n",
              "            + ' to learn more about interactive tables.';\n",
              "          element.innerHTML = '';\n",
              "          dataTable['output_type'] = 'display_data';\n",
              "          await google.colab.output.renderOutput(dataTable, element);\n",
              "          const docLink = document.createElement('div');\n",
              "          docLink.innerHTML = docLinkHtml;\n",
              "          element.appendChild(docLink);\n",
              "        }\n",
              "      </script>\n",
              "    </div>\n",
              "  </div>\n",
              "  "
            ]
          },
          "metadata": {},
          "execution_count": 49
        }
      ],
      "source": [
        "df[cat_col]"
      ]
    },
    {
      "cell_type": "code",
      "execution_count": 50,
      "id": "29fe3ec3",
      "metadata": {
        "id": "29fe3ec3"
      },
      "outputs": [],
      "source": [
        "enc = OneHotEncoder()"
      ]
    },
    {
      "cell_type": "code",
      "execution_count": 51,
      "id": "e285c770",
      "metadata": {
        "id": "e285c770"
      },
      "outputs": [],
      "source": [
        "loginDevice = df[['PreferredLoginDevice']]"
      ]
    },
    {
      "cell_type": "code",
      "execution_count": 52,
      "id": "8ff72df4",
      "metadata": {
        "id": "8ff72df4"
      },
      "outputs": [],
      "source": [
        "PreferredLoginDevice = pd.get_dummies(loginDevice)"
      ]
    },
    {
      "cell_type": "code",
      "execution_count": 53,
      "id": "1ab5d781",
      "metadata": {
        "colab": {
          "base_uri": "https://localhost:8080/"
        },
        "id": "1ab5d781",
        "outputId": "994b1949-0b43-4f7c-d6e2-a15030b2a299"
      },
      "outputs": [
        {
          "output_type": "execute_result",
          "data": {
            "text/plain": [
              "PreferredLoginDevice_Computer        0\n",
              "PreferredLoginDevice_Mobile Phone    0\n",
              "PreferredLoginDevice_Phone           0\n",
              "dtype: int64"
            ]
          },
          "metadata": {},
          "execution_count": 53
        }
      ],
      "source": [
        "PreferredLoginDevice.isnull().sum()"
      ]
    },
    {
      "cell_type": "code",
      "execution_count": 54,
      "id": "487846e1",
      "metadata": {
        "id": "487846e1"
      },
      "outputs": [],
      "source": [
        "paymentMode = df[['PreferredPaymentMode']]"
      ]
    },
    {
      "cell_type": "code",
      "execution_count": 55,
      "id": "8205a69e",
      "metadata": {
        "id": "8205a69e"
      },
      "outputs": [],
      "source": [
        "PreferredPaymentMode = pd.get_dummies(paymentMode)"
      ]
    },
    {
      "cell_type": "code",
      "execution_count": 56,
      "id": "f2c1e20a",
      "metadata": {
        "id": "f2c1e20a"
      },
      "outputs": [],
      "source": [
        "gen = df[['Gender']]"
      ]
    },
    {
      "cell_type": "code",
      "execution_count": 57,
      "id": "758e31d2",
      "metadata": {
        "id": "758e31d2"
      },
      "outputs": [],
      "source": [
        "gender = pd.get_dummies(gen)"
      ]
    },
    {
      "cell_type": "code",
      "execution_count": 58,
      "id": "4098018a",
      "metadata": {
        "id": "4098018a"
      },
      "outputs": [],
      "source": [
        "Ordercat = df[['PreferedOrderCat']]"
      ]
    },
    {
      "cell_type": "code",
      "execution_count": 59,
      "id": "8e0f56d1",
      "metadata": {
        "id": "8e0f56d1"
      },
      "outputs": [],
      "source": [
        "PreferedOrderCat = pd.get_dummies(Ordercat)"
      ]
    },
    {
      "cell_type": "code",
      "execution_count": 60,
      "id": "fe2f7b1f",
      "metadata": {
        "id": "fe2f7b1f"
      },
      "outputs": [],
      "source": [
        "Marital = df[['MaritalStatus']]"
      ]
    },
    {
      "cell_type": "code",
      "execution_count": 61,
      "id": "35827b78",
      "metadata": {
        "id": "35827b78"
      },
      "outputs": [],
      "source": [
        "MaritalStatus = pd.get_dummies(Marital)"
      ]
    },
    {
      "cell_type": "code",
      "execution_count": 62,
      "id": "7adb573b",
      "metadata": {
        "id": "7adb573b"
      },
      "outputs": [],
      "source": [
        "dff = pd.concat([PreferredLoginDevice,PreferredPaymentMode,gender,PreferedOrderCat,MaritalStatus,df[num_col]],axis = 1)"
      ]
    },
    {
      "cell_type": "code",
      "execution_count": 63,
      "id": "5075d35e",
      "metadata": {
        "colab": {
          "base_uri": "https://localhost:8080/",
          "height": 505
        },
        "id": "5075d35e",
        "outputId": "5e70f56a-19cf-4200-93b1-860902e56a54"
      },
      "outputs": [
        {
          "output_type": "execute_result",
          "data": {
            "text/plain": [
              "      PreferredLoginDevice_Computer  PreferredLoginDevice_Mobile Phone  \\\n",
              "0                                 0                                  1   \n",
              "1                                 0                                  0   \n",
              "2                                 0                                  0   \n",
              "3                                 0                                  0   \n",
              "4                                 0                                  0   \n",
              "...                             ...                                ...   \n",
              "5625                              1                                  0   \n",
              "5626                              0                                  1   \n",
              "5627                              0                                  1   \n",
              "5628                              1                                  0   \n",
              "5629                              0                                  1   \n",
              "\n",
              "      PreferredLoginDevice_Phone  PreferredPaymentMode_CC  \\\n",
              "0                              0                        0   \n",
              "1                              1                        0   \n",
              "2                              1                        0   \n",
              "3                              1                        0   \n",
              "4                              1                        1   \n",
              "...                          ...                      ...   \n",
              "5625                           0                        0   \n",
              "5626                           0                        0   \n",
              "5627                           0                        0   \n",
              "5628                           0                        0   \n",
              "5629                           0                        0   \n",
              "\n",
              "      PreferredPaymentMode_COD  PreferredPaymentMode_Cash on Delivery  \\\n",
              "0                            0                                      0   \n",
              "1                            0                                      0   \n",
              "2                            0                                      0   \n",
              "3                            0                                      0   \n",
              "4                            0                                      0   \n",
              "...                        ...                                    ...   \n",
              "5625                         0                                      0   \n",
              "5626                         0                                      0   \n",
              "5627                         0                                      0   \n",
              "5628                         0                                      0   \n",
              "5629                         0                                      0   \n",
              "\n",
              "      PreferredPaymentMode_Credit Card  PreferredPaymentMode_Debit Card  \\\n",
              "0                                    0                                1   \n",
              "1                                    0                                0   \n",
              "2                                    0                                1   \n",
              "3                                    0                                1   \n",
              "4                                    0                                0   \n",
              "...                                ...                              ...   \n",
              "5625                                 1                                0   \n",
              "5626                                 1                                0   \n",
              "5627                                 0                                1   \n",
              "5628                                 1                                0   \n",
              "5629                                 1                                0   \n",
              "\n",
              "      PreferredPaymentMode_E wallet  PreferredPaymentMode_UPI  ...  \\\n",
              "0                                 0                         0  ...   \n",
              "1                                 0                         1  ...   \n",
              "2                                 0                         0  ...   \n",
              "3                                 0                         0  ...   \n",
              "4                                 0                         0  ...   \n",
              "...                             ...                       ...  ...   \n",
              "5625                              0                         0  ...   \n",
              "5626                              0                         0  ...   \n",
              "5627                              0                         0  ...   \n",
              "5628                              0                         0  ...   \n",
              "5629                              0                         0  ...   \n",
              "\n",
              "      HourSpendOnApp  NumberOfDeviceRegistered  SatisfactionScore  \\\n",
              "0           3.000000                         3                  2   \n",
              "1           3.000000                         4                  3   \n",
              "2           2.000000                         4                  3   \n",
              "3           2.000000                         4                  5   \n",
              "4           2.931535                         3                  5   \n",
              "...              ...                       ...                ...   \n",
              "5625        3.000000                         2                  1   \n",
              "5626        3.000000                         5                  5   \n",
              "5627        3.000000                         2                  4   \n",
              "5628        4.000000                         5                  4   \n",
              "5629        3.000000                         2                  3   \n",
              "\n",
              "      NumberOfAddress  Complain  OrderAmountHikeFromlastYear  CouponUsed  \\\n",
              "0                   9         1                         11.0         1.0   \n",
              "1                   7         1                         15.0         0.0   \n",
              "2                   6         1                         14.0         0.0   \n",
              "3                   8         0                         23.0         0.0   \n",
              "4                   3         0                         11.0         1.0   \n",
              "...               ...       ...                          ...         ...   \n",
              "5625                6         0                         18.0         1.0   \n",
              "5626                6         0                         16.0         1.0   \n",
              "5627                3         1                         21.0         1.0   \n",
              "5628                4         0                         15.0         2.0   \n",
              "5629                4         0                         13.0         2.0   \n",
              "\n",
              "      OrderCount  DaySinceLastOrder  CashbackAmount  \n",
              "0            1.0           5.000000          159.93  \n",
              "1            1.0           0.000000          120.90  \n",
              "2            1.0           3.000000          120.28  \n",
              "3            1.0           3.000000          134.07  \n",
              "4            1.0           3.000000          129.60  \n",
              "...          ...                ...             ...  \n",
              "5625         2.0           4.000000          150.71  \n",
              "5626         2.0           4.543491          224.91  \n",
              "5627         2.0           4.000000          186.42  \n",
              "5628         2.0           9.000000          178.90  \n",
              "5629         2.0           3.000000          169.04  \n",
              "\n",
              "[5630 rows x 36 columns]"
            ],
            "text/html": [
              "\n",
              "  <div id=\"df-67149cfe-5a5b-4ef6-9180-fc135f058e26\">\n",
              "    <div class=\"colab-df-container\">\n",
              "      <div>\n",
              "<style scoped>\n",
              "    .dataframe tbody tr th:only-of-type {\n",
              "        vertical-align: middle;\n",
              "    }\n",
              "\n",
              "    .dataframe tbody tr th {\n",
              "        vertical-align: top;\n",
              "    }\n",
              "\n",
              "    .dataframe thead th {\n",
              "        text-align: right;\n",
              "    }\n",
              "</style>\n",
              "<table border=\"1\" class=\"dataframe\">\n",
              "  <thead>\n",
              "    <tr style=\"text-align: right;\">\n",
              "      <th></th>\n",
              "      <th>PreferredLoginDevice_Computer</th>\n",
              "      <th>PreferredLoginDevice_Mobile Phone</th>\n",
              "      <th>PreferredLoginDevice_Phone</th>\n",
              "      <th>PreferredPaymentMode_CC</th>\n",
              "      <th>PreferredPaymentMode_COD</th>\n",
              "      <th>PreferredPaymentMode_Cash on Delivery</th>\n",
              "      <th>PreferredPaymentMode_Credit Card</th>\n",
              "      <th>PreferredPaymentMode_Debit Card</th>\n",
              "      <th>PreferredPaymentMode_E wallet</th>\n",
              "      <th>PreferredPaymentMode_UPI</th>\n",
              "      <th>...</th>\n",
              "      <th>HourSpendOnApp</th>\n",
              "      <th>NumberOfDeviceRegistered</th>\n",
              "      <th>SatisfactionScore</th>\n",
              "      <th>NumberOfAddress</th>\n",
              "      <th>Complain</th>\n",
              "      <th>OrderAmountHikeFromlastYear</th>\n",
              "      <th>CouponUsed</th>\n",
              "      <th>OrderCount</th>\n",
              "      <th>DaySinceLastOrder</th>\n",
              "      <th>CashbackAmount</th>\n",
              "    </tr>\n",
              "  </thead>\n",
              "  <tbody>\n",
              "    <tr>\n",
              "      <th>0</th>\n",
              "      <td>0</td>\n",
              "      <td>1</td>\n",
              "      <td>0</td>\n",
              "      <td>0</td>\n",
              "      <td>0</td>\n",
              "      <td>0</td>\n",
              "      <td>0</td>\n",
              "      <td>1</td>\n",
              "      <td>0</td>\n",
              "      <td>0</td>\n",
              "      <td>...</td>\n",
              "      <td>3.000000</td>\n",
              "      <td>3</td>\n",
              "      <td>2</td>\n",
              "      <td>9</td>\n",
              "      <td>1</td>\n",
              "      <td>11.0</td>\n",
              "      <td>1.0</td>\n",
              "      <td>1.0</td>\n",
              "      <td>5.000000</td>\n",
              "      <td>159.93</td>\n",
              "    </tr>\n",
              "    <tr>\n",
              "      <th>1</th>\n",
              "      <td>0</td>\n",
              "      <td>0</td>\n",
              "      <td>1</td>\n",
              "      <td>0</td>\n",
              "      <td>0</td>\n",
              "      <td>0</td>\n",
              "      <td>0</td>\n",
              "      <td>0</td>\n",
              "      <td>0</td>\n",
              "      <td>1</td>\n",
              "      <td>...</td>\n",
              "      <td>3.000000</td>\n",
              "      <td>4</td>\n",
              "      <td>3</td>\n",
              "      <td>7</td>\n",
              "      <td>1</td>\n",
              "      <td>15.0</td>\n",
              "      <td>0.0</td>\n",
              "      <td>1.0</td>\n",
              "      <td>0.000000</td>\n",
              "      <td>120.90</td>\n",
              "    </tr>\n",
              "    <tr>\n",
              "      <th>2</th>\n",
              "      <td>0</td>\n",
              "      <td>0</td>\n",
              "      <td>1</td>\n",
              "      <td>0</td>\n",
              "      <td>0</td>\n",
              "      <td>0</td>\n",
              "      <td>0</td>\n",
              "      <td>1</td>\n",
              "      <td>0</td>\n",
              "      <td>0</td>\n",
              "      <td>...</td>\n",
              "      <td>2.000000</td>\n",
              "      <td>4</td>\n",
              "      <td>3</td>\n",
              "      <td>6</td>\n",
              "      <td>1</td>\n",
              "      <td>14.0</td>\n",
              "      <td>0.0</td>\n",
              "      <td>1.0</td>\n",
              "      <td>3.000000</td>\n",
              "      <td>120.28</td>\n",
              "    </tr>\n",
              "    <tr>\n",
              "      <th>3</th>\n",
              "      <td>0</td>\n",
              "      <td>0</td>\n",
              "      <td>1</td>\n",
              "      <td>0</td>\n",
              "      <td>0</td>\n",
              "      <td>0</td>\n",
              "      <td>0</td>\n",
              "      <td>1</td>\n",
              "      <td>0</td>\n",
              "      <td>0</td>\n",
              "      <td>...</td>\n",
              "      <td>2.000000</td>\n",
              "      <td>4</td>\n",
              "      <td>5</td>\n",
              "      <td>8</td>\n",
              "      <td>0</td>\n",
              "      <td>23.0</td>\n",
              "      <td>0.0</td>\n",
              "      <td>1.0</td>\n",
              "      <td>3.000000</td>\n",
              "      <td>134.07</td>\n",
              "    </tr>\n",
              "    <tr>\n",
              "      <th>4</th>\n",
              "      <td>0</td>\n",
              "      <td>0</td>\n",
              "      <td>1</td>\n",
              "      <td>1</td>\n",
              "      <td>0</td>\n",
              "      <td>0</td>\n",
              "      <td>0</td>\n",
              "      <td>0</td>\n",
              "      <td>0</td>\n",
              "      <td>0</td>\n",
              "      <td>...</td>\n",
              "      <td>2.931535</td>\n",
              "      <td>3</td>\n",
              "      <td>5</td>\n",
              "      <td>3</td>\n",
              "      <td>0</td>\n",
              "      <td>11.0</td>\n",
              "      <td>1.0</td>\n",
              "      <td>1.0</td>\n",
              "      <td>3.000000</td>\n",
              "      <td>129.60</td>\n",
              "    </tr>\n",
              "    <tr>\n",
              "      <th>...</th>\n",
              "      <td>...</td>\n",
              "      <td>...</td>\n",
              "      <td>...</td>\n",
              "      <td>...</td>\n",
              "      <td>...</td>\n",
              "      <td>...</td>\n",
              "      <td>...</td>\n",
              "      <td>...</td>\n",
              "      <td>...</td>\n",
              "      <td>...</td>\n",
              "      <td>...</td>\n",
              "      <td>...</td>\n",
              "      <td>...</td>\n",
              "      <td>...</td>\n",
              "      <td>...</td>\n",
              "      <td>...</td>\n",
              "      <td>...</td>\n",
              "      <td>...</td>\n",
              "      <td>...</td>\n",
              "      <td>...</td>\n",
              "      <td>...</td>\n",
              "    </tr>\n",
              "    <tr>\n",
              "      <th>5625</th>\n",
              "      <td>1</td>\n",
              "      <td>0</td>\n",
              "      <td>0</td>\n",
              "      <td>0</td>\n",
              "      <td>0</td>\n",
              "      <td>0</td>\n",
              "      <td>1</td>\n",
              "      <td>0</td>\n",
              "      <td>0</td>\n",
              "      <td>0</td>\n",
              "      <td>...</td>\n",
              "      <td>3.000000</td>\n",
              "      <td>2</td>\n",
              "      <td>1</td>\n",
              "      <td>6</td>\n",
              "      <td>0</td>\n",
              "      <td>18.0</td>\n",
              "      <td>1.0</td>\n",
              "      <td>2.0</td>\n",
              "      <td>4.000000</td>\n",
              "      <td>150.71</td>\n",
              "    </tr>\n",
              "    <tr>\n",
              "      <th>5626</th>\n",
              "      <td>0</td>\n",
              "      <td>1</td>\n",
              "      <td>0</td>\n",
              "      <td>0</td>\n",
              "      <td>0</td>\n",
              "      <td>0</td>\n",
              "      <td>1</td>\n",
              "      <td>0</td>\n",
              "      <td>0</td>\n",
              "      <td>0</td>\n",
              "      <td>...</td>\n",
              "      <td>3.000000</td>\n",
              "      <td>5</td>\n",
              "      <td>5</td>\n",
              "      <td>6</td>\n",
              "      <td>0</td>\n",
              "      <td>16.0</td>\n",
              "      <td>1.0</td>\n",
              "      <td>2.0</td>\n",
              "      <td>4.543491</td>\n",
              "      <td>224.91</td>\n",
              "    </tr>\n",
              "    <tr>\n",
              "      <th>5627</th>\n",
              "      <td>0</td>\n",
              "      <td>1</td>\n",
              "      <td>0</td>\n",
              "      <td>0</td>\n",
              "      <td>0</td>\n",
              "      <td>0</td>\n",
              "      <td>0</td>\n",
              "      <td>1</td>\n",
              "      <td>0</td>\n",
              "      <td>0</td>\n",
              "      <td>...</td>\n",
              "      <td>3.000000</td>\n",
              "      <td>2</td>\n",
              "      <td>4</td>\n",
              "      <td>3</td>\n",
              "      <td>1</td>\n",
              "      <td>21.0</td>\n",
              "      <td>1.0</td>\n",
              "      <td>2.0</td>\n",
              "      <td>4.000000</td>\n",
              "      <td>186.42</td>\n",
              "    </tr>\n",
              "    <tr>\n",
              "      <th>5628</th>\n",
              "      <td>1</td>\n",
              "      <td>0</td>\n",
              "      <td>0</td>\n",
              "      <td>0</td>\n",
              "      <td>0</td>\n",
              "      <td>0</td>\n",
              "      <td>1</td>\n",
              "      <td>0</td>\n",
              "      <td>0</td>\n",
              "      <td>0</td>\n",
              "      <td>...</td>\n",
              "      <td>4.000000</td>\n",
              "      <td>5</td>\n",
              "      <td>4</td>\n",
              "      <td>4</td>\n",
              "      <td>0</td>\n",
              "      <td>15.0</td>\n",
              "      <td>2.0</td>\n",
              "      <td>2.0</td>\n",
              "      <td>9.000000</td>\n",
              "      <td>178.90</td>\n",
              "    </tr>\n",
              "    <tr>\n",
              "      <th>5629</th>\n",
              "      <td>0</td>\n",
              "      <td>1</td>\n",
              "      <td>0</td>\n",
              "      <td>0</td>\n",
              "      <td>0</td>\n",
              "      <td>0</td>\n",
              "      <td>1</td>\n",
              "      <td>0</td>\n",
              "      <td>0</td>\n",
              "      <td>0</td>\n",
              "      <td>...</td>\n",
              "      <td>3.000000</td>\n",
              "      <td>2</td>\n",
              "      <td>3</td>\n",
              "      <td>4</td>\n",
              "      <td>0</td>\n",
              "      <td>13.0</td>\n",
              "      <td>2.0</td>\n",
              "      <td>2.0</td>\n",
              "      <td>3.000000</td>\n",
              "      <td>169.04</td>\n",
              "    </tr>\n",
              "  </tbody>\n",
              "</table>\n",
              "<p>5630 rows × 36 columns</p>\n",
              "</div>\n",
              "      <button class=\"colab-df-convert\" onclick=\"convertToInteractive('df-67149cfe-5a5b-4ef6-9180-fc135f058e26')\"\n",
              "              title=\"Convert this dataframe to an interactive table.\"\n",
              "              style=\"display:none;\">\n",
              "        \n",
              "  <svg xmlns=\"http://www.w3.org/2000/svg\" height=\"24px\"viewBox=\"0 0 24 24\"\n",
              "       width=\"24px\">\n",
              "    <path d=\"M0 0h24v24H0V0z\" fill=\"none\"/>\n",
              "    <path d=\"M18.56 5.44l.94 2.06.94-2.06 2.06-.94-2.06-.94-.94-2.06-.94 2.06-2.06.94zm-11 1L8.5 8.5l.94-2.06 2.06-.94-2.06-.94L8.5 2.5l-.94 2.06-2.06.94zm10 10l.94 2.06.94-2.06 2.06-.94-2.06-.94-.94-2.06-.94 2.06-2.06.94z\"/><path d=\"M17.41 7.96l-1.37-1.37c-.4-.4-.92-.59-1.43-.59-.52 0-1.04.2-1.43.59L10.3 9.45l-7.72 7.72c-.78.78-.78 2.05 0 2.83L4 21.41c.39.39.9.59 1.41.59.51 0 1.02-.2 1.41-.59l7.78-7.78 2.81-2.81c.8-.78.8-2.07 0-2.86zM5.41 20L4 18.59l7.72-7.72 1.47 1.35L5.41 20z\"/>\n",
              "  </svg>\n",
              "      </button>\n",
              "      \n",
              "  <style>\n",
              "    .colab-df-container {\n",
              "      display:flex;\n",
              "      flex-wrap:wrap;\n",
              "      gap: 12px;\n",
              "    }\n",
              "\n",
              "    .colab-df-convert {\n",
              "      background-color: #E8F0FE;\n",
              "      border: none;\n",
              "      border-radius: 50%;\n",
              "      cursor: pointer;\n",
              "      display: none;\n",
              "      fill: #1967D2;\n",
              "      height: 32px;\n",
              "      padding: 0 0 0 0;\n",
              "      width: 32px;\n",
              "    }\n",
              "\n",
              "    .colab-df-convert:hover {\n",
              "      background-color: #E2EBFA;\n",
              "      box-shadow: 0px 1px 2px rgba(60, 64, 67, 0.3), 0px 1px 3px 1px rgba(60, 64, 67, 0.15);\n",
              "      fill: #174EA6;\n",
              "    }\n",
              "\n",
              "    [theme=dark] .colab-df-convert {\n",
              "      background-color: #3B4455;\n",
              "      fill: #D2E3FC;\n",
              "    }\n",
              "\n",
              "    [theme=dark] .colab-df-convert:hover {\n",
              "      background-color: #434B5C;\n",
              "      box-shadow: 0px 1px 3px 1px rgba(0, 0, 0, 0.15);\n",
              "      filter: drop-shadow(0px 1px 2px rgba(0, 0, 0, 0.3));\n",
              "      fill: #FFFFFF;\n",
              "    }\n",
              "  </style>\n",
              "\n",
              "      <script>\n",
              "        const buttonEl =\n",
              "          document.querySelector('#df-67149cfe-5a5b-4ef6-9180-fc135f058e26 button.colab-df-convert');\n",
              "        buttonEl.style.display =\n",
              "          google.colab.kernel.accessAllowed ? 'block' : 'none';\n",
              "\n",
              "        async function convertToInteractive(key) {\n",
              "          const element = document.querySelector('#df-67149cfe-5a5b-4ef6-9180-fc135f058e26');\n",
              "          const dataTable =\n",
              "            await google.colab.kernel.invokeFunction('convertToInteractive',\n",
              "                                                     [key], {});\n",
              "          if (!dataTable) return;\n",
              "\n",
              "          const docLinkHtml = 'Like what you see? Visit the ' +\n",
              "            '<a target=\"_blank\" href=https://colab.research.google.com/notebooks/data_table.ipynb>data table notebook</a>'\n",
              "            + ' to learn more about interactive tables.';\n",
              "          element.innerHTML = '';\n",
              "          dataTable['output_type'] = 'display_data';\n",
              "          await google.colab.output.renderOutput(dataTable, element);\n",
              "          const docLink = document.createElement('div');\n",
              "          docLink.innerHTML = docLinkHtml;\n",
              "          element.appendChild(docLink);\n",
              "        }\n",
              "      </script>\n",
              "    </div>\n",
              "  </div>\n",
              "  "
            ]
          },
          "metadata": {},
          "execution_count": 63
        }
      ],
      "source": [
        "dff"
      ]
    },
    {
      "cell_type": "code",
      "execution_count": 64,
      "id": "c4fac249",
      "metadata": {
        "id": "c4fac249"
      },
      "outputs": [],
      "source": [
        "x = dff.drop(columns='Churn')"
      ]
    },
    {
      "cell_type": "code",
      "execution_count": 65,
      "id": "d658cd88",
      "metadata": {
        "id": "d658cd88"
      },
      "outputs": [],
      "source": [
        "y = dff['Churn']"
      ]
    },
    {
      "cell_type": "code",
      "execution_count": 66,
      "id": "e41dac64",
      "metadata": {
        "id": "e41dac64"
      },
      "outputs": [],
      "source": [
        "x_train,x_test,y_train,y_test = train_test_split(x,y,test_size=0.2,random_state=144)"
      ]
    },
    {
      "cell_type": "code",
      "execution_count": 67,
      "id": "ac6ff04d",
      "metadata": {
        "id": "ac6ff04d"
      },
      "outputs": [],
      "source": [
        "# model training"
      ]
    },
    {
      "cell_type": "code",
      "execution_count": 68,
      "id": "e8b74814",
      "metadata": {
        "id": "e8b74814"
      },
      "outputs": [],
      "source": [
        "from sklearn.ensemble import RandomForestClassifier\n",
        "from sklearn.ensemble import GradientBoostingClassifier\n",
        "from sklearn.metrics import roc_auc_score,recall_score,precision_score,confusion_matrix\n"
      ]
    },
    {
      "cell_type": "code",
      "execution_count": 69,
      "id": "2e8e7139",
      "metadata": {
        "id": "2e8e7139"
      },
      "outputs": [],
      "source": [
        "model_randf = RandomForestClassifier()"
      ]
    },
    {
      "cell_type": "code",
      "execution_count": 70,
      "id": "acea55c0",
      "metadata": {
        "colab": {
          "base_uri": "https://localhost:8080/"
        },
        "id": "acea55c0",
        "outputId": "f431a47d-b846-4897-88d3-68dbdf6fedb5"
      },
      "outputs": [
        {
          "output_type": "execute_result",
          "data": {
            "text/plain": [
              "RandomForestClassifier()"
            ]
          },
          "metadata": {},
          "execution_count": 70
        }
      ],
      "source": [
        "model_randf.fit(x_train,y_train)"
      ]
    },
    {
      "cell_type": "code",
      "execution_count": 71,
      "id": "015eb659",
      "metadata": {
        "id": "015eb659"
      },
      "outputs": [],
      "source": [
        "y_pred_rand = model_randf.predict(x_test)"
      ]
    },
    {
      "cell_type": "code",
      "execution_count": 72,
      "id": "5d4684a7",
      "metadata": {
        "colab": {
          "base_uri": "https://localhost:8080/"
        },
        "id": "5d4684a7",
        "outputId": "102e29fd-87a4-4791-9513-a52978def255"
      },
      "outputs": [
        {
          "output_type": "execute_result",
          "data": {
            "text/plain": [
              "array([[942,   5],\n",
              "       [ 45, 134]])"
            ]
          },
          "metadata": {},
          "execution_count": 72
        }
      ],
      "source": [
        "confusion_matrix(y_test,y_pred_rand)"
      ]
    },
    {
      "cell_type": "code",
      "execution_count": 73,
      "id": "386ab246",
      "metadata": {
        "colab": {
          "base_uri": "https://localhost:8080/"
        },
        "id": "386ab246",
        "outputId": "2f34f177-bf1f-4640-8362-a0d03450af90"
      },
      "outputs": [
        {
          "output_type": "execute_result",
          "data": {
            "text/plain": [
              "0.8716617604549504"
            ]
          },
          "metadata": {},
          "execution_count": 73
        }
      ],
      "source": [
        "roc_auc_score(y_test,y_pred_rand)"
      ]
    },
    {
      "cell_type": "code",
      "execution_count": 74,
      "id": "d450dc11",
      "metadata": {
        "id": "d450dc11"
      },
      "outputs": [],
      "source": [
        "model_grad = GradientBoostingClassifier()"
      ]
    },
    {
      "cell_type": "code",
      "execution_count": 75,
      "id": "157cea0c",
      "metadata": {
        "colab": {
          "base_uri": "https://localhost:8080/"
        },
        "id": "157cea0c",
        "outputId": "c2c89859-1b39-4943-b44e-eaa3563813c2"
      },
      "outputs": [
        {
          "output_type": "execute_result",
          "data": {
            "text/plain": [
              "GradientBoostingClassifier()"
            ]
          },
          "metadata": {},
          "execution_count": 75
        }
      ],
      "source": [
        "model_grad.fit(x_train,y_train)"
      ]
    },
    {
      "cell_type": "code",
      "execution_count": 76,
      "id": "ab84855a",
      "metadata": {
        "id": "ab84855a"
      },
      "outputs": [],
      "source": [
        "y_pred_Gd = model_grad.predict(x_test)"
      ]
    },
    {
      "cell_type": "code",
      "execution_count": 77,
      "id": "1a82c1bf",
      "metadata": {
        "colab": {
          "base_uri": "https://localhost:8080/"
        },
        "id": "1a82c1bf",
        "outputId": "74d92af2-17f9-45f2-ae29-4b0fd8f477ed"
      },
      "outputs": [
        {
          "output_type": "execute_result",
          "data": {
            "text/plain": [
              "array([[925,  22],\n",
              "       [ 73, 106]])"
            ]
          },
          "metadata": {},
          "execution_count": 77
        }
      ],
      "source": [
        "confusion_matrix(y_test,y_pred_Gd)"
      ]
    },
    {
      "cell_type": "code",
      "execution_count": 78,
      "id": "d4fe2b47",
      "metadata": {
        "colab": {
          "base_uri": "https://localhost:8080/"
        },
        "id": "d4fe2b47",
        "outputId": "6295ed18-1eb0-4742-ed86-f3b75a96e9a2"
      },
      "outputs": [
        {
          "output_type": "execute_result",
          "data": {
            "text/plain": [
              "0.7844737571749659"
            ]
          },
          "metadata": {},
          "execution_count": 78
        }
      ],
      "source": [
        "roc_auc_score(y_test,y_pred_Gd)"
      ]
    },
    {
      "cell_type": "code",
      "execution_count": 79,
      "id": "71abb77e",
      "metadata": {
        "id": "71abb77e"
      },
      "outputs": [],
      "source": [
        "import xgboost as xgb"
      ]
    },
    {
      "cell_type": "code",
      "execution_count": 80,
      "id": "d1464487",
      "metadata": {
        "id": "d1464487"
      },
      "outputs": [],
      "source": [
        "model_xgb = xgb.XGBClassifier()"
      ]
    },
    {
      "cell_type": "code",
      "execution_count": 88,
      "id": "5ccc1f9e",
      "metadata": {
        "colab": {
          "base_uri": "https://localhost:8080/"
        },
        "id": "5ccc1f9e",
        "outputId": "3c6bff5e-4b11-4c42-be87-1793a166d79a"
      },
      "outputs": [
        {
          "output_type": "execute_result",
          "data": {
            "text/plain": [
              "XGBClassifier()"
            ]
          },
          "metadata": {},
          "execution_count": 88
        }
      ],
      "source": [
        "model_xgb.fit(x_train,y_train)"
      ]
    },
    {
      "cell_type": "code",
      "execution_count": 89,
      "id": "9b69aed5",
      "metadata": {
        "id": "9b69aed5"
      },
      "outputs": [],
      "source": [
        "y_pred_xgb = model_xgb.predict(x_test)"
      ]
    },
    {
      "cell_type": "code",
      "execution_count": 90,
      "id": "c69729b8",
      "metadata": {
        "colab": {
          "base_uri": "https://localhost:8080/"
        },
        "id": "c69729b8",
        "outputId": "3ae1b473-c9b5-41e9-f89a-abf62a042dfe"
      },
      "outputs": [
        {
          "output_type": "execute_result",
          "data": {
            "text/plain": [
              "array([[924,  23],\n",
              "       [ 70, 109]])"
            ]
          },
          "metadata": {},
          "execution_count": 90
        }
      ],
      "source": [
        "confusion_matrix(y_test,y_pred_xgb)"
      ]
    },
    {
      "cell_type": "code",
      "execution_count": 91,
      "id": "c6468e65",
      "metadata": {
        "colab": {
          "base_uri": "https://localhost:8080/"
        },
        "id": "c6468e65",
        "outputId": "3512a79b-cde5-4611-bfd7-8c0127f33e1b"
      },
      "outputs": [
        {
          "output_type": "execute_result",
          "data": {
            "text/plain": [
              "0.7923256623385818"
            ]
          },
          "metadata": {},
          "execution_count": 91
        }
      ],
      "source": [
        "roc_auc_score(y_test,y_pred_xgb)"
      ]
    },
    {
      "cell_type": "code",
      "execution_count": 92,
      "id": "6cd36e05",
      "metadata": {
        "id": "6cd36e05"
      },
      "outputs": [],
      "source": [
        "param_grid_cv = {\n",
        "    'n_estimators':[5,10,20,100],\n",
        "\n",
        "    'booster':['gbtree', 'gblinear' , 'dart'],\n",
        "    'min_child_weight': [1, 5, 10],\n",
        "    'gamma': [0.5, 1, 1.5, 2, 5],\n",
        "    'subsample': [0.6, 0.8, 1.0],\n",
        "    'colsample_bytree': [0.6, 0.8, 1.0],\n",
        "    'max_depth': [3, 4, 5]\n",
        "}"
      ]
    },
    {
      "cell_type": "markdown",
      "source": [
        "Hypertunning"
      ],
      "metadata": {
        "id": "ZwHx1MIt63JE"
      },
      "id": "ZwHx1MIt63JE"
    },
    {
      "cell_type": "code",
      "execution_count": 93,
      "id": "991f28da",
      "metadata": {
        "id": "991f28da"
      },
      "outputs": [],
      "source": [
        "from sklearn.model_selection import GridSearchCV"
      ]
    },
    {
      "cell_type": "code",
      "execution_count": 94,
      "id": "8fac5b9a",
      "metadata": {
        "id": "8fac5b9a"
      },
      "outputs": [],
      "source": [
        "model_grid_xgb = GridSearchCV(estimator=xgb.XGBClassifier(),param_grid=param_grid_cv,n_jobs=-1, cv=4)"
      ]
    },
    {
      "cell_type": "code",
      "execution_count": null,
      "id": "06537401",
      "metadata": {
        "id": "06537401"
      },
      "outputs": [],
      "source": [
        "model_grid_xgb.fit(x_train,y_train)"
      ]
    },
    {
      "cell_type": "code",
      "execution_count": 96,
      "id": "1d4753f5",
      "metadata": {
        "colab": {
          "base_uri": "https://localhost:8080/"
        },
        "id": "1d4753f5",
        "outputId": "be408971-cab1-422d-ae2f-331eb7406687"
      },
      "outputs": [
        {
          "output_type": "execute_result",
          "data": {
            "text/plain": [
              "{'booster': 'dart',\n",
              " 'colsample_bytree': 1.0,\n",
              " 'gamma': 1,\n",
              " 'max_depth': 5,\n",
              " 'min_child_weight': 1,\n",
              " 'n_estimators': 100,\n",
              " 'subsample': 0.8}"
            ]
          },
          "metadata": {},
          "execution_count": 96
        }
      ],
      "source": [
        "model_grid_xgb.best_params_"
      ]
    },
    {
      "cell_type": "code",
      "execution_count": 97,
      "id": "2647bff3",
      "metadata": {
        "id": "2647bff3"
      },
      "outputs": [],
      "source": [
        "y_pred_grid_xgb = model_grid_xgb.predict(x_test)"
      ]
    },
    {
      "cell_type": "code",
      "execution_count": 99,
      "id": "9558044d",
      "metadata": {
        "colab": {
          "base_uri": "https://localhost:8080/"
        },
        "id": "9558044d",
        "outputId": "cab07616-62a2-4fa8-95a3-aeda8c5d6e79"
      },
      "outputs": [
        {
          "output_type": "execute_result",
          "data": {
            "text/plain": [
              "array([[933,  14],\n",
              "       [ 52, 127]])"
            ]
          },
          "metadata": {},
          "execution_count": 99
        }
      ],
      "source": [
        "confusion_matrix(y_test,y_pred_grid_xgb)"
      ]
    },
    {
      "cell_type": "code",
      "source": [
        "roc_auc_score(y_test,y_pred_grid_xgb)"
      ],
      "metadata": {
        "id": "8JmCHhmv6lwu",
        "outputId": "bfa7510f-6451-42b6-9686-0da023eae292",
        "colab": {
          "base_uri": "https://localhost:8080/"
        }
      },
      "id": "8JmCHhmv6lwu",
      "execution_count": 98,
      "outputs": [
        {
          "output_type": "execute_result",
          "data": {
            "text/plain": [
              "0.8473568398883861"
            ]
          },
          "metadata": {},
          "execution_count": 98
        }
      ]
    },
    {
      "cell_type": "code",
      "source": [],
      "metadata": {
        "id": "sAjAtfrL6w4Y"
      },
      "id": "sAjAtfrL6w4Y",
      "execution_count": null,
      "outputs": []
    }
  ],
  "metadata": {
    "kernelspec": {
      "display_name": "Python 3 (ipykernel)",
      "language": "python",
      "name": "python3"
    },
    "language_info": {
      "codemirror_mode": {
        "name": "ipython",
        "version": 3
      },
      "file_extension": ".py",
      "mimetype": "text/x-python",
      "name": "python",
      "nbconvert_exporter": "python",
      "pygments_lexer": "ipython3",
      "version": "3.9.7"
    },
    "colab": {
      "provenance": []
    },
    "accelerator": "GPU"
  },
  "nbformat": 4,
  "nbformat_minor": 5
}